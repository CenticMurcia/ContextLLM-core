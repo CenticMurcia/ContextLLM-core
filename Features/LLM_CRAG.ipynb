{
 "cells": [
  {
   "cell_type": "code",
   "execution_count": 44,
   "metadata": {},
   "outputs": [],
   "source": [
    "from langchain.embeddings import HuggingFaceEmbeddings\n",
    "\n",
    "from langchain_community.document_loaders import PyPDFLoader\n",
    "from langchain.text_splitter import RecursiveCharacterTextSplitter\n",
    "\n",
    "from langchain_community.vectorstores import Chroma\n",
    "from langchain.vectorstores import VectorStore \n",
    "\n",
    "\n",
    "from langchain_community.llms import Ollama\n",
    "from langchain.chains import RetrievalQA\n",
    "#from langchain_core.output_parsers import StrOutputParser\n",
    "from langchain.callbacks.manager import CallbackManager\n",
    "from langchain.callbacks.streaming_stdout import StreamingStdOutCallbackHandler\n",
    "from langchain.memory import ConversationBufferMemory\n",
    "#retriever personalizado\n",
    "from langchain_core.callbacks import CallbackManagerForRetrieverRun\n",
    "from langchain_core.documents import Document\n",
    "from langchain_core.retrievers import BaseRetriever\n",
    "from typing import List\n",
    "\n",
    "#from langchain_community.embeddings.ollama import OllamaEmbeddings\n",
    "\n",
    "from langchain.prompts import PromptTemplate\n",
    "#from langchain_core.prompts import ChatPromptTemplate\n",
    "#from langchain_community.chat_models import ChatOllama\n",
    "from langchain_core.output_parsers import JsonOutputParser\n",
    "\n"
   ]
  },
  {
   "cell_type": "code",
   "execution_count": 7,
   "metadata": {},
   "outputs": [],
   "source": [
    "#llm = ChatOllama(model = 'llama3', format = 'json', temperature=0)\n",
    "llm = Ollama(base_url=\"http://localhost:11434\",\n",
    "             model=\"mistral\",\n",
    "             verbose=True,  \n",
    "             callback_manager=CallbackManager([StreamingStdOutCallbackHandler()]))\n",
    "\n",
    "hugg_embeddings = HuggingFaceEmbeddings(model_name= \"mxbai-embed-large-v1\")"
   ]
  },
  {
   "cell_type": "code",
   "execution_count": 3,
   "metadata": {},
   "outputs": [],
   "source": [
    "myFile = 'annualreport.pdf'\n",
    "loader = PyPDFLoader(\"DATA/\" + myFile)\n",
    "\n",
    "data = loader.load()\n",
    "\n",
    "text_splitter = RecursiveCharacterTextSplitter(\n",
    "        chunk_size=500,\n",
    "        chunk_overlap=100,\n",
    "        length_function=len\n",
    "    )\n",
    "\n",
    "all_splits = text_splitter.split_documents(data)"
   ]
  },
  {
   "cell_type": "code",
   "execution_count": 4,
   "metadata": {},
   "outputs": [],
   "source": [
    "vectorstore = Chroma.from_documents(\n",
    "        documents=all_splits,\n",
    "        embedding=hugg_embeddings\n",
    "    )"
   ]
  },
  {
   "cell_type": "code",
   "execution_count": 5,
   "metadata": {},
   "outputs": [
    {
     "data": {
      "text/plain": [
       "[Document(page_content='sector and one of the UK’s leading \\nentrepreneurs and philanthropists. Along \\nwith his brother Farouq, he co-founded \\nCareTech. As Group CEO he actively leads \\nthe day-to-day running of the Group \\nand its international expansion, and has \\nbeen instrumental in assembling a highly \\ntalented leadership team, to support \\nthe continued growth of the business. \\nHaroon brings commercial acumen, \\nrelated industry experience and property \\nknowledge. He has a deep commitment', metadata={'page': 40, 'source': 'DATA/annualreport.pdf'}),\n",
       " Document(page_content='facilitates a culture of openness and debate.\\nGroup Chief Executive Officer\\nHaroon Sheikh is the Group CEO and \\naccountable to the Board for the day-to-day \\nrunning of the Group and management of  \\nthe strategic plan.\\nHaroon Sheikh is responsible for the following:\\n –Executive leadership of the Group’s \\nbusiness on a day-to-day basis.\\n –Developing the overall commercial \\nobjectives, and proposing and developing \\nthe strategy in conjunction with the Board \\nas a whole.', metadata={'page': 42, 'source': 'DATA/annualreport.pdf'}),\n",
       " Document(page_content='Haroon, a graduate of the University \\nof London, is a Founder Trustee of the \\nCareTech Charitable Foundation formed \\nin 2017, and is Chairman of the Trustees, \\nworking closely with the Foundation’s \\nCEO and independent Trustees.Jamie joined the Board as a Non-\\nExecutive Director in 2013. Following \\na long career in corporate advisory \\nand broking in the City, including \\nacting as Chief Executive Officer of \\nN+1Brewin LLP, and latterly as Senior \\nAdviser to Cantor Fitzgerald Europe,', metadata={'page': 40, 'source': 'DATA/annualreport.pdf'}),\n",
       " Document(page_content='related industry experience and property \\nknowledge. He has a deep commitment \\nand passion for delivering high-quality \\ncare and support to people with  \\ncomplex needs. \\nHaroon is Patron and Enterprise Fellow of \\nthe Prince’s Trust and is a member of the \\nUK Advisory Council of the British Asian \\nTrust under the patronage of HRH The \\nPrince of Wales.\\nIn 2008, Haroon and Farouq were \\nwinners of the highly valued Coutts \\nFamily Business Prize and widely \\napplauded for the quality and social', metadata={'page': 40, 'source': 'DATA/annualreport.pdf'})]"
      ]
     },
     "execution_count": 5,
     "metadata": {},
     "output_type": "execute_result"
    }
   ],
   "source": [
    "#vectorstore.get(include=['embeddings'])['embeddings']\n",
    "query = 'Who is Haroon Sheikh?'\n",
    "\n",
    "vectorstore.similarity_search_by_vector(hugg_embeddings.embed_query(query))"
   ]
  },
  {
   "cell_type": "code",
   "execution_count": 55,
   "metadata": {},
   "outputs": [
    {
     "name": "stdout",
     "output_type": "stream",
     "text": [
      "\n",
      "\n",
      "\u001b[1m> Entering new RetrievalQA chain...\u001b[0m\n",
      "\n",
      "\n",
      "\u001b[1m> Entering new StuffDocumentsChain chain...\u001b[0m\n",
      "\n",
      "\n",
      "\u001b[1m> Entering new LLMChain chain...\u001b[0m\n",
      "Prompt after formatting:\n",
      "\u001b[32;1m\u001b[1;3m\n",
      "    You are a knowledgeable chatbot, here to help with questions of the user.\n",
      "    Your tone should be professional and informative.\n",
      "\n",
      "    Context: sector and one of the UK’s leading \n",
      "entrepreneurs and philanthropists. Along \n",
      "with his brother Farouq, he co-founded \n",
      "CareTech. As Group CEO he actively leads \n",
      "the day-to-day running of the Group \n",
      "and its international expansion, and has \n",
      "been instrumental in assembling a highly \n",
      "talented leadership team, to support \n",
      "the continued growth of the business. \n",
      "Haroon brings commercial acumen, \n",
      "related industry experience and property \n",
      "knowledge. He has a deep commitment\n",
      "\n",
      "facilitates a culture of openness and debate.\n",
      "Group Chief Executive Officer\n",
      "Haroon Sheikh is the Group CEO and \n",
      "accountable to the Board for the day-to-day \n",
      "running of the Group and management of  \n",
      "the strategic plan.\n",
      "Haroon Sheikh is responsible for the following:\n",
      " –Executive leadership of the Group’s \n",
      "business on a day-to-day basis.\n",
      " –Developing the overall commercial \n",
      "objectives, and proposing and developing \n",
      "the strategy in conjunction with the Board \n",
      "as a whole.\n",
      "\n",
      "Haroon, a graduate of the University \n",
      "of London, is a Founder Trustee of the \n",
      "CareTech Charitable Foundation formed \n",
      "in 2017, and is Chairman of the Trustees, \n",
      "working closely with the Foundation’s \n",
      "CEO and independent Trustees.Jamie joined the Board as a Non-\n",
      "Executive Director in 2013. Following \n",
      "a long career in corporate advisory \n",
      "and broking in the City, including \n",
      "acting as Chief Executive Officer of \n",
      "N+1Brewin LLP, and latterly as Senior \n",
      "Adviser to Cantor Fitzgerald Europe,\n",
      "\n",
      "related industry experience and property \n",
      "knowledge. He has a deep commitment \n",
      "and passion for delivering high-quality \n",
      "care and support to people with  \n",
      "complex needs. \n",
      "Haroon is Patron and Enterprise Fellow of \n",
      "the Prince’s Trust and is a member of the \n",
      "UK Advisory Council of the British Asian \n",
      "Trust under the patronage of HRH The \n",
      "Prince of Wales.\n",
      "In 2008, Haroon and Farouq were \n",
      "winners of the highly valued Coutts \n",
      "Family Business Prize and widely \n",
      "applauded for the quality and social\n",
      "    History: []\n",
      "\n",
      "    User: Who is Haroon Sheikh?\n",
      "    Chatbot:\n",
      "    It is mandatorian that only if the answer is not in the context, answer \"I have not enough context in order to answer this\" and stop the answer.\n",
      "    Try to use the memory context in the answer only if the question mentions it.\n",
      "\u001b[0m\n",
      " Haroon Sheikh is the Group CEO of CareTech, a leading healthcare and support services company based in the UK. He is responsible for the day-to-day running of the business and its international expansion. Haroon brings commercial acumen, industry experience, and property knowledge to his role. He is also a Founder Trustee and Chairman of the CareTech Charitable Foundation, and holds various other roles such as Patron and Enterprise Fellow of the Prince's Trust. Haroon has a deep commitment to delivering high-quality care and support to people with complex needs. He and his brother Farouq co-founded CareTech in 2004 and were recipients of the Coutts Family Business Prize in 2008.\n",
      "\u001b[1m> Finished chain.\u001b[0m\n",
      "\n",
      "\u001b[1m> Finished chain.\u001b[0m\n",
      "\n",
      "\u001b[1m> Finished chain.\u001b[0m\n"
     ]
    },
    {
     "data": {
      "text/plain": [
       "{'query': 'Who is Haroon Sheikh?',\n",
       " 'result': \" Haroon Sheikh is the Group CEO of CareTech, a leading healthcare and support services company based in the UK. He is responsible for the day-to-day running of the business and its international expansion. Haroon brings commercial acumen, industry experience, and property knowledge to his role. He is also a Founder Trustee and Chairman of the CareTech Charitable Foundation, and holds various other roles such as Patron and Enterprise Fellow of the Prince's Trust. Haroon has a deep commitment to delivering high-quality care and support to people with complex needs. He and his brother Farouq co-founded CareTech in 2004 and were recipients of the Coutts Family Business Prize in 2008.\"}"
      ]
     },
     "execution_count": 55,
     "metadata": {},
     "output_type": "execute_result"
    }
   ],
   "source": [
    "template = \"\"\"\n",
    "    You are a knowledgeable chatbot, here to help with questions of the user.\n",
    "    Your tone should be professional and informative.\n",
    "\n",
    "    Context: {context}\n",
    "    History: {history}\n",
    "\n",
    "    User: {question}\n",
    "    Chatbot:\n",
    "    It is mandatorian that only if the answer is not in the context, answer \"I have not enough context in order to answer this\" and stop the answer.\n",
    "    Try to use the memory context in the answer only if the question mentions it.\n",
    "\"\"\"\n",
    "\n",
    "prompt = PromptTemplate(\n",
    "    input_variables=[\"history\", \"context\", \"question\"],\n",
    "    template=template,\n",
    ")\n",
    "\n",
    "memory = ConversationBufferMemory(\n",
    "    memory_key=\"history\",\n",
    "    return_messages=True,\n",
    "    input_key=\"question\"\n",
    ")\n",
    "\n",
    "qa_chain = RetrievalQA.from_chain_type(\n",
    "    llm=llm,\n",
    "    chain_type='stuff',\n",
    "    retriever=vectorstore.as_retriever(search_kwargs={\"k\": 4}),\n",
    "    verbose=True,\n",
    "    chain_type_kwargs={\n",
    "        \"verbose\": True,\n",
    "        \"prompt\": prompt,\n",
    "        \"memory\": memory,\n",
    "    }\n",
    ")\n",
    "\n",
    "result = qa_chain({\"query\": query})\n",
    "result"
   ]
  },
  {
   "cell_type": "code",
   "execution_count": 45,
   "metadata": {},
   "outputs": [
    {
     "name": "stdout",
     "output_type": "stream",
     "text": [
      "Who is Haroon Sheikh?\n",
      "---------------------------------------------------------\n",
      "sector and one of the UK’s leading \n",
      "entrepreneurs and philanthropists. Along \n",
      "with his brother Farouq, he co-founded \n",
      "CareTech. As Group CEO he actively leads \n",
      "the day-to-day running of the Group \n",
      "and its international expansion, and has \n",
      "been instrumental in assembling a highly \n",
      "talented leadership team, to support \n",
      "the continued growth of the business. \n",
      "Haroon brings commercial acumen, \n",
      "related industry experience and property \n",
      "knowledge. He has a deep commitment\n",
      " {\"score\": \"yes\"}{'score': 'yes'}\n",
      "---------------------------------------------------------------\n",
      "Mi primo pedro es muy listo y sabe trabajar con muchas tecnologías\n",
      " {\n",
      "\"score\": \"no\"\n",
      "}{'score': 'no'}\n"
     ]
    }
   ],
   "source": [
    "prompt_1 = PromptTemplate(\n",
    "    template=\"\"\"You are a grader assessing relevance of a retrieved document to a user question. \\n \n",
    "    Here is the retrieved document: \\n\\n {document} \\n\\n\n",
    "    Here is the user question: {question} \\n\n",
    "    If the document contains keywords related to the user question, grade it as relevant. \\n\n",
    "    It does not need to be a stringent test. The goal is to filter out erroneous retrievals. \\n\n",
    "    Give a binary score 'yes' or 'no' score to indicate whether the document is relevant to the question. \\n\n",
    "    Provide the binary score as a JSON with a single key 'score' and no premable or explaination.\"\"\",\n",
    "    input_variables=[\"question\", \"document\"],\n",
    ")\n",
    "\n",
    "retrieval_grader = prompt_1 | llm | JsonOutputParser()\n",
    "\n",
    "question = \" 'Who is Haroon Sheikh?'\"\n",
    "\n",
    "docs = vectorstore.as_retriever().get_relevant_documents(question)\n",
    "doc_txt = docs[0].page_content\n",
    "print(query)\n",
    "print('---------------------------------------------------------')\n",
    "print(doc_txt)\n",
    "print(retrieval_grader.invoke({\"question\": question, \"document\": doc_txt}))\n",
    "print('---------------------------------------------------------------')\n",
    "doc_fake ='Mi primo pedro es muy listo y sabe trabajar con muchas tecnologías'\n",
    "print(doc_fake)\n",
    "print(retrieval_grader.invoke({\"question\": question, \"document\": doc_fake}))\n"
   ]
  },
  {
   "cell_type": "code",
   "execution_count": 46,
   "metadata": {},
   "outputs": [],
   "source": [
    "#vectorstore.as_retriever(search_kwargs={\"score_threshold\": 200,\"k\": 4})\n",
    "\n",
    "def eval_documents(retrieval, question):\n",
    "    valid_docs = []\n",
    "    docs = retrieval.get_relevant_documents(question)\n",
    "\n",
    "    for d in docs: \n",
    "        score = retrieval_grader.invoke({\"question\": question, \"document\": d.page_content})\n",
    "        if score['score'] == \"yes\":\n",
    "            valid_docs.append(d)\n",
    "        else:\n",
    "            continue\n",
    "    return valid_docs\n"
   ]
  },
  {
   "cell_type": "code",
   "execution_count": 47,
   "metadata": {},
   "outputs": [
    {
     "data": {
      "text/plain": [
       "[Document(page_content='sector and one of the UK’s leading \\nentrepreneurs and philanthropists. Along \\nwith his brother Farouq, he co-founded \\nCareTech. As Group CEO he actively leads \\nthe day-to-day running of the Group \\nand its international expansion, and has \\nbeen instrumental in assembling a highly \\ntalented leadership team, to support \\nthe continued growth of the business. \\nHaroon brings commercial acumen, \\nrelated industry experience and property \\nknowledge. He has a deep commitment', metadata={'page': 40, 'source': 'DATA/annualreport.pdf'})]"
      ]
     },
     "execution_count": 47,
     "metadata": {},
     "output_type": "execute_result"
    }
   ],
   "source": [
    "vectorstore.as_retriever(search_kwargs={\"k\": 1}).get_relevant_documents(query)"
   ]
  },
  {
   "cell_type": "code",
   "execution_count": 48,
   "metadata": {},
   "outputs": [
    {
     "name": "stdout",
     "output_type": "stream",
     "text": [
      " { \"score\": \"no\" } { \"score\": \"no\" } {\n",
      "\"score\": \"no\"\n",
      "} {\n",
      "\"score\": \"no\"\n",
      "}"
     ]
    },
    {
     "data": {
      "text/plain": [
       "[]"
      ]
     },
     "execution_count": 48,
     "metadata": {},
     "output_type": "execute_result"
    }
   ],
   "source": [
    "eval_documents(vectorstore.as_retriever(search_kwargs={\"k\": 4}),'madre mia')"
   ]
  },
  {
   "cell_type": "code",
   "execution_count": 49,
   "metadata": {},
   "outputs": [
    {
     "data": {
      "text/plain": [
       "[Document(page_content='LogBUK. REHAVISTA is Germany’s largest \\nprovider of augmentative and alternative \\ncommunication (‘AAC’) products and \\nservices. LogBUK is a subsidiary company to \\nREHAVISTA, providing independent speech \\nand language therapy to help AAC users \\nachieve the best outcomes through specialist \\nclinical support. Smartbox paid €10m in cash \\non completion, funded by the Group’s debt \\nfacility and post completion, CareTech will \\nown 83% of Smartbox with the remaining', metadata={'page': 46, 'source': 'DATA/annualreport.pdf'}),\n",
       " Document(page_content='achieve the best outcomes through specialist \\nclinical support.\\nREHAVISTA’s reach and expertise is \\nunparalleled in Germany, estimated to be the \\nsecond largest funded AAC market globally \\nafter the US. With its deep knowledge of \\nassistive technology and established routes to \\nmarket, this acquisition provides a significant \\nopportunity for Smartbox to expand the \\nproducts and services available in Germany, \\nexpanding on the existing partnership \\nbetween Smartbox and REHAVISTA, and', metadata={'page': 34, 'source': 'DATA/annualreport.pdf'}),\n",
       " Document(page_content='Extending our Digital t echnology \\noffering\\nOn 29 November 2021, we announced the \\nacquisition of REHAVISTA GmBH (‘REHAVISTA’) \\nand its subsidiary company LogBUK.\\nREHAVISTA is Germany’s largest provider of \\naugmentative and alternative communication \\n(‘AAC’) products and services, employing over \\n170 staff. The company, which has six offices \\nacross Germany, provides a range of AAC and \\nassistive technology products and has a strong \\nreputation for excellent service. LogBUK is a', metadata={'page': 9, 'source': 'DATA/annualreport.pdf'}),\n",
       " Document(page_content='after the USA. With its deep knowledge of \\nassistive technology and established routes to \\nmarket, this acquisition provides a significant \\nopportunity for Smartbox to expand the \\nproducts and services available in Germany, \\nexpanding on the existing partnership \\nbetween Smartbox and REHAVISTA, and \\nacross Smartbox’s global customer base, \\nwhich spans more than 30 languages and  \\n45 distributors.\\nREHAVISTA and LogBUK, headquartered in \\nBremen, generated revenue in excess of €16m', metadata={'page': 9, 'source': 'DATA/annualreport.pdf'})]"
      ]
     },
     "execution_count": 49,
     "metadata": {},
     "output_type": "execute_result"
    }
   ],
   "source": [
    "vectorstore.as_retriever().get_relevant_documents('madre mia')"
   ]
  },
  {
   "cell_type": "code",
   "execution_count": 32,
   "metadata": {},
   "outputs": [],
   "source": [
    "#Retriever personalizado\n",
    "#Prueba se puede borrar\n",
    "class ToyRetriever(BaseRetriever):\n",
    "   \n",
    "    documents: List[Document]\n",
    "    def _get_relevant_documents(\n",
    "        self, query: str, *, run_manager: CallbackManagerForRetrieverRun\n",
    "    ) -> List[Document]:\n",
    "        \"\"\"Sync implementations for retriever.\"\"\"\n",
    "        return self.documents\n",
    "    "
   ]
  },
  {
   "cell_type": "code",
   "execution_count": 38,
   "metadata": {},
   "outputs": [
    {
     "name": "stdout",
     "output_type": "stream",
     "text": [
      " {\n",
      "\"score\": \"yes\"\n",
      "} {\n",
      "\"score\": \"yes\"\n",
      "} {\"score\": \"yes\"}\n",
      "\n",
      "\u001b[1m> Entering new RetrievalQA chain...\u001b[0m\n",
      "\n",
      "\n",
      "\u001b[1m> Entering new StuffDocumentsChain chain...\u001b[0m\n",
      "\n",
      "\n",
      "\u001b[1m> Entering new LLMChain chain...\u001b[0m\n",
      "Prompt after formatting:\n",
      "\u001b[32;1m\u001b[1;3m\n",
      "    You are a knowledgeable chatbot, here to help with questions of the user.\n",
      "    Your tone should be professional and informative.\n",
      "\n",
      "    Context: sector and one of the UK’s leading \n",
      "entrepreneurs and philanthropists. Along \n",
      "with his brother Farouq, he co-founded \n",
      "CareTech. As Group CEO he actively leads \n",
      "the day-to-day running of the Group \n",
      "and its international expansion, and has \n",
      "been instrumental in assembling a highly \n",
      "talented leadership team, to support \n",
      "the continued growth of the business. \n",
      "Haroon brings commercial acumen, \n",
      "related industry experience and property \n",
      "knowledge. He has a deep commitment\n",
      "\n",
      "facilitates a culture of openness and debate.\n",
      "Group Chief Executive Officer\n",
      "Haroon Sheikh is the Group CEO and \n",
      "accountable to the Board for the day-to-day \n",
      "running of the Group and management of  \n",
      "the strategic plan.\n",
      "Haroon Sheikh is responsible for the following:\n",
      " –Executive leadership of the Group’s \n",
      "business on a day-to-day basis.\n",
      " –Developing the overall commercial \n",
      "objectives, and proposing and developing \n",
      "the strategy in conjunction with the Board \n",
      "as a whole.\n",
      "\n",
      "Haroon, a graduate of the University \n",
      "of London, is a Founder Trustee of the \n",
      "CareTech Charitable Foundation formed \n",
      "in 2017, and is Chairman of the Trustees, \n",
      "working closely with the Foundation’s \n",
      "CEO and independent Trustees.Jamie joined the Board as a Non-\n",
      "Executive Director in 2013. Following \n",
      "a long career in corporate advisory \n",
      "and broking in the City, including \n",
      "acting as Chief Executive Officer of \n",
      "N+1Brewin LLP, and latterly as Senior \n",
      "Adviser to Cantor Fitzgerald Europe,\n",
      "    History: [HumanMessage(content='Who is Haroon Sheikh?'), AIMessage(content=\" Haroon Sheikh is the Group CEO of CareTech, a leading UK care and support services provider. He is responsible for the day-to-day running of the business and its international expansion, as well as developing the overall commercial objectives and strategy in conjunction with the Board. Haroon is also a Founder Trustee and Chairman of the CareTech Charitable Foundation, and has a deep commitment to delivering high-quality care and support to people with complex needs. He is a graduate of the University of London and has extensive industry experience and property knowledge. Haroon is also Patron and Enterprise Fellow of the Prince's Trust and a member of the UK Advisory Council of the British Asian Trust. Haroon and his brother Farouq were winners of the Coutts Family Business Prize in 2008.\"), HumanMessage(content='Who is Haroon Sheikh?'), AIMessage(content=\" I have not enough context in order to answer who Haroon Sheikh was before the given context. However, according to the provided context, Haroon Sheikh is the Group CEO of CareTech, a leading UK care and support services provider. He is responsible for the day-to-day running of the business and its international expansion, as well as developing the overall commercial objectives and strategy in conjunction with the Board. Haroon also has a deep commitment to delivering high-quality care and support to people with complex needs, and is a Founder Trustee and Chairman of the CareTech Charitable Foundation. He is a graduate of the University of London and has extensive industry experience and property knowledge. Haroon is also Patron and Enterprise Fellow of the Prince's Trust and a member of the UK Advisory Council of the British Asian Trust. Haroon and his brother Farouq were winners of the Coutts Family Business Prize in 2008.\")]\n",
      "\n",
      "    User: Who is Haroon Sheikh?\n",
      "    Chatbot:\n",
      "    It is mandatorian that if the answer is not in the context, answer \"I have not enough context in order to answer this\" and stop the answer.\n",
      "\u001b[0m\n",
      " I have not enough context in order to answer who Haroon Sheikh was before the given context. However, according to the provided context, Haroon Sheikh is the Group CEO of CareTech, a leading UK care and support services provider. He is responsible for the day-to-day running of the business and its international expansion, as well as developing the overall commercial objectives and strategy in conjunction with the Board. Haroon also has a deep commitment to delivering high-quality care and support to people with complex needs, and is a Founder Trustee and Chairman of the CareTech Charitable Foundation. He is a graduate of the University of London and has extensive industry experience and property knowledge. Haroon is also Patron and Enterprise Fellow of the Prince's Trust and a member of the UK Advisory Council of the British Asian Trust. Haroon and his brother Farouq were winners of the Coutts Family Business Prize in 2008.\n",
      "\u001b[1m> Finished chain.\u001b[0m\n",
      "\n",
      "\u001b[1m> Finished chain.\u001b[0m\n",
      "\n",
      "\u001b[1m> Finished chain.\u001b[0m\n"
     ]
    },
    {
     "data": {
      "text/plain": [
       "{'query': 'Who is Haroon Sheikh?',\n",
       " 'result': \" I have not enough context in order to answer who Haroon Sheikh was before the given context. However, according to the provided context, Haroon Sheikh is the Group CEO of CareTech, a leading UK care and support services provider. He is responsible for the day-to-day running of the business and its international expansion, as well as developing the overall commercial objectives and strategy in conjunction with the Board. Haroon also has a deep commitment to delivering high-quality care and support to people with complex needs, and is a Founder Trustee and Chairman of the CareTech Charitable Foundation. He is a graduate of the University of London and has extensive industry experience and property knowledge. Haroon is also Patron and Enterprise Fellow of the Prince's Trust and a member of the UK Advisory Council of the British Asian Trust. Haroon and his brother Farouq were winners of the Coutts Family Business Prize in 2008.\"}"
      ]
     },
     "execution_count": 38,
     "metadata": {},
     "output_type": "execute_result"
    }
   ],
   "source": [
    "#Prueba se puede borrar\n",
    "\n",
    "qa_chain = RetrievalQA.from_chain_type(\n",
    "    llm=llm,\n",
    "    chain_type='stuff',\n",
    "    retriever=ToyRetriever(documents = eval_documents(vectorstore.as_retriever(search_kwargs={\"k\": 3}),query)),\n",
    "    verbose=True,\n",
    "    chain_type_kwargs={\n",
    "        \"verbose\": True,\n",
    "        \"prompt\": prompt,\n",
    "        \"memory\": memory,\n",
    "    }\n",
    ")\n",
    "\n",
    "result = qa_chain({\"query\": query})\n",
    "result"
   ]
  },
  {
   "cell_type": "code",
   "execution_count": 51,
   "metadata": {},
   "outputs": [],
   "source": [
    "#ok\n",
    "class CustomRetriever(BaseRetriever):\n",
    "    \n",
    "    vs: VectorStore\n",
    "\n",
    "    def _get_relevant_documents(\n",
    "        self, query: str, *, run_manager: CallbackManagerForRetrieverRun\n",
    "        ) -> List[Document]:\n",
    "        return eval_documents(self.vs.as_retriever(), query)"
   ]
  },
  {
   "cell_type": "code",
   "execution_count": 52,
   "metadata": {},
   "outputs": [
    {
     "name": "stdout",
     "output_type": "stream",
     "text": [
      "\n",
      "\n",
      "\u001b[1m> Entering new RetrievalQA chain...\u001b[0m\n",
      " {\"score\": \"yes\"} {\"score\": \"yes\"} {\"score\": \"yes\"} {\n",
      "\"score\": \"yes\"\n",
      "}\n",
      "\n",
      "\u001b[1m> Entering new StuffDocumentsChain chain...\u001b[0m\n",
      "\n",
      "\n",
      "\u001b[1m> Entering new LLMChain chain...\u001b[0m\n",
      "Prompt after formatting:\n",
      "\u001b[32;1m\u001b[1;3m\n",
      "    You are a knowledgeable chatbot, here to help with questions of the user.\n",
      "    Your tone should be professional and informative.\n",
      "\n",
      "    Context: sector and one of the UK’s leading \n",
      "entrepreneurs and philanthropists. Along \n",
      "with his brother Farouq, he co-founded \n",
      "CareTech. As Group CEO he actively leads \n",
      "the day-to-day running of the Group \n",
      "and its international expansion, and has \n",
      "been instrumental in assembling a highly \n",
      "talented leadership team, to support \n",
      "the continued growth of the business. \n",
      "Haroon brings commercial acumen, \n",
      "related industry experience and property \n",
      "knowledge. He has a deep commitment\n",
      "\n",
      "facilitates a culture of openness and debate.\n",
      "Group Chief Executive Officer\n",
      "Haroon Sheikh is the Group CEO and \n",
      "accountable to the Board for the day-to-day \n",
      "running of the Group and management of  \n",
      "the strategic plan.\n",
      "Haroon Sheikh is responsible for the following:\n",
      " –Executive leadership of the Group’s \n",
      "business on a day-to-day basis.\n",
      " –Developing the overall commercial \n",
      "objectives, and proposing and developing \n",
      "the strategy in conjunction with the Board \n",
      "as a whole.\n",
      "\n",
      "Haroon, a graduate of the University \n",
      "of London, is a Founder Trustee of the \n",
      "CareTech Charitable Foundation formed \n",
      "in 2017, and is Chairman of the Trustees, \n",
      "working closely with the Foundation’s \n",
      "CEO and independent Trustees.Jamie joined the Board as a Non-\n",
      "Executive Director in 2013. Following \n",
      "a long career in corporate advisory \n",
      "and broking in the City, including \n",
      "acting as Chief Executive Officer of \n",
      "N+1Brewin LLP, and latterly as Senior \n",
      "Adviser to Cantor Fitzgerald Europe,\n",
      "\n",
      "related industry experience and property \n",
      "knowledge. He has a deep commitment \n",
      "and passion for delivering high-quality \n",
      "care and support to people with  \n",
      "complex needs. \n",
      "Haroon is Patron and Enterprise Fellow of \n",
      "the Prince’s Trust and is a member of the \n",
      "UK Advisory Council of the British Asian \n",
      "Trust under the patronage of HRH The \n",
      "Prince of Wales.\n",
      "In 2008, Haroon and Farouq were \n",
      "winners of the highly valued Coutts \n",
      "Family Business Prize and widely \n",
      "applauded for the quality and social\n",
      "    History: [HumanMessage(content='Who is Haroon Sheikh?'), AIMessage(content=' Haroon Sheikh is the Group CEO of CareTech, a leading care and support services provider in the UK. He is responsible for the day-to-day running of the business and its international expansion. Haroon brings commercial acumen, industry experience, and property knowledge to his role. He also facilitates a culture of openness and debate within the organization. Haroon is a graduate of the University of London and serves as the Chairman of the Trustees for the CareTech Charitable Foundation. Additionally, he has received several awards and recognitions for his contributions to business and philanthropy.')]\n",
      "\n",
      "    User: Who is Haroon Sheikh?\n",
      "    Chatbot:\n",
      "    It is mandatorian that only if the answer is not in the context, answer \"I have not enough context in order to answer this\" and stop the answer.\n",
      "\u001b[0m\n",
      " Haroon Sheikh is the Group CEO of CareTech, a leading care and support services provider in the UK. He is responsible for the day-to-day running of the business and its international expansion. Haroon brings commercial acumen, industry experience, and property knowledge to his role. He also facilitates a culture of openness and debate within the organization. Haroon is a graduate of the University of London and serves as the Chairman of the Trustees for the CareTech Charitable Foundation. Additionally, he has received several awards and recognitions for his contributions to business and philanthropy.\n",
      "\u001b[1m> Finished chain.\u001b[0m\n",
      "\n",
      "\u001b[1m> Finished chain.\u001b[0m\n",
      "\n",
      "\u001b[1m> Finished chain.\u001b[0m\n"
     ]
    },
    {
     "data": {
      "text/plain": [
       "{'query': 'Who is Haroon Sheikh?',\n",
       " 'result': ' Haroon Sheikh is the Group CEO of CareTech, a leading care and support services provider in the UK. He is responsible for the day-to-day running of the business and its international expansion. Haroon brings commercial acumen, industry experience, and property knowledge to his role. He also facilitates a culture of openness and debate within the organization. Haroon is a graduate of the University of London and serves as the Chairman of the Trustees for the CareTech Charitable Foundation. Additionally, he has received several awards and recognitions for his contributions to business and philanthropy.'}"
      ]
     },
     "execution_count": 52,
     "metadata": {},
     "output_type": "execute_result"
    }
   ],
   "source": [
    "#ok\n",
    "qa_chain = RetrievalQA.from_chain_type(\n",
    "    llm=llm,\n",
    "    chain_type='stuff',\n",
    "    retriever=CustomRetriever(vs = vectorstore),\n",
    "    verbose=True,\n",
    "    chain_type_kwargs={\n",
    "        \"verbose\": True,\n",
    "        \"prompt\": prompt,\n",
    "        \"memory\": memory,\n",
    "    }\n",
    ")\n",
    "\n",
    "result = qa_chain({\"query\": query})\n",
    "result"
   ]
  },
  {
   "cell_type": "code",
   "execution_count": 58,
   "metadata": {},
   "outputs": [
    {
     "name": "stdout",
     "output_type": "stream",
     "text": [
      "\n",
      "\n",
      "\u001b[1m> Entering new RetrievalQA chain...\u001b[0m\n",
      "\n",
      "\n",
      "\u001b[1m> Entering new StuffDocumentsChain chain...\u001b[0m\n",
      "\n",
      "\n",
      "\u001b[1m> Entering new LLMChain chain...\u001b[0m\n",
      "Prompt after formatting:\n",
      "\u001b[32;1m\u001b[1;3m\n",
      "    You are a knowledgeable chatbot, here to help with questions of the user.\n",
      "    Your tone should be professional and informative.\n",
      "\n",
      "    Context: We have established our new \n",
      "CareTech Technology division \n",
      "to spearhead our technology \n",
      "and innovation agenda.\n",
      " \n",
      "CareTech aims to become a digital leader \n",
      "in the disability and specialist social care \n",
      "sectors by developing an end-to-end \n",
      "pathway of innovative services that blend \n",
      "care and technology. Building on our \n",
      "maiden investment in Smartbox, we will \n",
      "accelerate the pace of our investment \n",
      "and development of innovative digital \n",
      "solutions to reach more people around\n",
      "\n",
      "CareTech has 16 years on the public markets \n",
      "and grown to over 550 services supporting \n",
      "close to 5,000 service users. The business has \n",
      "increased its range of services to offer a broad \n",
      "Care Pathway which was expanded during \n",
      "the year with the acquisition of Smartbox and \n",
      "the creation of a Digital Technology division. \n",
      "Continuing to be innovative and develop a \n",
      "range of Care Pathways will continue to help \n",
      "many of the adults, young people and children \n",
      "we support to live more independently.\n",
      "\n",
      "management. We work closely with our \n",
      "regulators and commissioners across \n",
      "England, Scotland and Wales. \n",
      "CareTech is a well-known care Group in \n",
      "public ownership and offers high-quality \n",
      "services with a strong ethical and values-\n",
      "based approach. We have upper quartile \n",
      "ratings for both CQC and Ofsted and  \n",
      "have ambitions to improve these.  Our quality assurance is embedded within \n",
      "the Group’s operational management \n",
      "structure – from the Home Manager, \n",
      "Regional Manager and Operations Director,\n",
      "\n",
      "services. The care, commitment, passion, \n",
      "empathy and professionalism of our staff are \n",
      "critical to the success of our Group and the \n",
      "care we provide. \n",
      "CareTech looks to promote attractive working \n",
      "conditions and staff training. A large part \n",
      "of our recruitment process is focused on \n",
      "matching the needs of the Group’s service \n",
      "users and patients to the skills values and \n",
      "behaviour of our staff, which necessitates a \n",
      "person-centred approach. We drive a culture\n",
      "    History: [HumanMessage(content='Who is Haroon Sheikh?'), AIMessage(content=\" Haroon Sheikh is the Group CEO of CareTech, a leading healthcare and support services company based in the UK. He is responsible for the day-to-day running of the business and its international expansion. Haroon brings commercial acumen, industry experience, and property knowledge to his role. He is also a Founder Trustee and Chairman of the CareTech Charitable Foundation, and holds various other roles such as Patron and Enterprise Fellow of the Prince's Trust. Haroon has a deep commitment to delivering high-quality care and support to people with complex needs. He and his brother Farouq co-founded CareTech in 2004 and were recipients of the Coutts Family Business Prize in 2008.\"), HumanMessage(content='Podrias contarme un poema?'), AIMessage(content=\" I'm glad you asked for a poem! However, I don't see any mention of a poem in the context provided. So, I have not enough context in order to answer this question with an appropriate response. If you have a specific poem or topic in mind, please let me know and I would be happy to help with that!\"), HumanMessage(content='Quien es Homer simpson?'), AIMessage(content=' I\\'m sorry, but \"Homer Simpson\" is not mentioned in the context provided. Therefore, I cannot answer with an appropriate response regarding Homer Simpson. I have not enough context in order to answer this question.')]\n",
      "\n",
      "    User: Que es CareTech?\n",
      "    Chatbot:\n",
      "    It is mandatorian that only if the answer is not in the context, answer \"I have not enough context in order to answer this\" and stop the answer.\n",
      "    Try to use the memory context in the answer only if the question mentions it.\n",
      "\u001b[0m\n",
      " CareTech is a leading healthcare and support services company based in the UK. It was co-founded by Haroon Sheikh and his brother Farouq in 2004, and has since grown to over 550 services supporting close to 5,000 service users. CareTech aims to become a digital leader in the disability and specialist social care sectors by developing innovative digital solutions. The company offers high-quality services with a strong ethical and values-based approach, and has upper quartile ratings for both CQC and Ofsted. CareTech works closely with regulators and commissioners across England, Scotland, and Wales.\n",
      "\u001b[1m> Finished chain.\u001b[0m\n",
      "\n",
      "\u001b[1m> Finished chain.\u001b[0m\n",
      "\n",
      "\u001b[1m> Finished chain.\u001b[0m\n"
     ]
    },
    {
     "data": {
      "text/plain": [
       "{'query': 'Que es CareTech?',\n",
       " 'result': ' CareTech is a leading healthcare and support services company based in the UK. It was co-founded by Haroon Sheikh and his brother Farouq in 2004, and has since grown to over 550 services supporting close to 5,000 service users. CareTech aims to become a digital leader in the disability and specialist social care sectors by developing innovative digital solutions. The company offers high-quality services with a strong ethical and values-based approach, and has upper quartile ratings for both CQC and Ofsted. CareTech works closely with regulators and commissioners across England, Scotland, and Wales.'}"
      ]
     },
     "execution_count": 58,
     "metadata": {},
     "output_type": "execute_result"
    }
   ],
   "source": [
    "result = qa_chain({\"query\": 'Que es CareTech?'})\n",
    "result"
   ]
  }
 ],
 "metadata": {
  "kernelspec": {
   "display_name": "envPRUEBA",
   "language": "python",
   "name": "python3"
  },
  "language_info": {
   "codemirror_mode": {
    "name": "ipython",
    "version": 3
   },
   "file_extension": ".py",
   "mimetype": "text/x-python",
   "name": "python",
   "nbconvert_exporter": "python",
   "pygments_lexer": "ipython3",
   "version": "3.10.12"
  }
 },
 "nbformat": 4,
 "nbformat_minor": 2
}
