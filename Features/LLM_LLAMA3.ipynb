{
 "cells": [
  {
   "cell_type": "code",
   "execution_count": 1,
   "metadata": {},
   "outputs": [
    {
     "name": "stderr",
     "output_type": "stream",
     "text": [
      "/home/joseacentic/centic/LLM/envPRUEBA/lib/python3.10/site-packages/tqdm/auto.py:21: TqdmWarning: IProgress not found. Please update jupyter and ipywidgets. See https://ipywidgets.readthedocs.io/en/stable/user_install.html\n",
      "  from .autonotebook import tqdm as notebook_tqdm\n"
     ]
    }
   ],
   "source": [
    "from langchain.llms import Ollama\n",
    "from sentence_transformers import SentenceTransformer\n",
    "from langchain_community.embeddings.ollama import OllamaEmbeddings\n",
    "from langchain.embeddings import HuggingFaceEmbeddings\n",
    "\n",
    "from langchain_community.document_loaders import PyPDFLoader\n",
    "from langchain.text_splitter import RecursiveCharacterTextSplitter\n",
    "\n",
    "from langchain_community.vectorstores import FAISS\n",
    "from langchain_core.vectorstores import VectorStoreRetriever\n",
    "\n",
    "from langchain.chains import RetrievalQA\n",
    "from langchain.callbacks.manager import CallbackManager\n",
    "from langchain.callbacks.streaming_stdout import StreamingStdOutCallbackHandler\n",
    "from langchain.prompts import PromptTemplate\n",
    "from langchain.memory import ConversationBufferMemory"
   ]
  },
  {
   "cell_type": "code",
   "execution_count": 2,
   "metadata": {},
   "outputs": [],
   "source": [
    "#Para cargar los modelos en el servidor desdee hf: \n",
    "from sentence_transformers import SentenceTransformer\n",
    "model = SentenceTransformer('intfloat/multilingual-e5-base')"
   ]
  },
  {
   "cell_type": "code",
   "execution_count": 3,
   "metadata": {},
   "outputs": [
    {
     "name": "stderr",
     "output_type": "stream",
     "text": [
      "Some weights of BertModel were not initialized from the model checkpoint at jinaai/jina-embeddings-v2-base-es and are newly initialized: ['embeddings.position_embeddings.weight', 'encoder.layer.0.intermediate.dense.bias', 'encoder.layer.0.intermediate.dense.weight', 'encoder.layer.0.output.LayerNorm.bias', 'encoder.layer.0.output.LayerNorm.weight', 'encoder.layer.0.output.dense.bias', 'encoder.layer.0.output.dense.weight', 'encoder.layer.1.intermediate.dense.bias', 'encoder.layer.1.intermediate.dense.weight', 'encoder.layer.1.output.LayerNorm.bias', 'encoder.layer.1.output.LayerNorm.weight', 'encoder.layer.1.output.dense.bias', 'encoder.layer.1.output.dense.weight', 'encoder.layer.10.intermediate.dense.bias', 'encoder.layer.10.intermediate.dense.weight', 'encoder.layer.10.output.LayerNorm.bias', 'encoder.layer.10.output.LayerNorm.weight', 'encoder.layer.10.output.dense.bias', 'encoder.layer.10.output.dense.weight', 'encoder.layer.11.intermediate.dense.bias', 'encoder.layer.11.intermediate.dense.weight', 'encoder.layer.11.output.LayerNorm.bias', 'encoder.layer.11.output.LayerNorm.weight', 'encoder.layer.11.output.dense.bias', 'encoder.layer.11.output.dense.weight', 'encoder.layer.2.intermediate.dense.bias', 'encoder.layer.2.intermediate.dense.weight', 'encoder.layer.2.output.LayerNorm.bias', 'encoder.layer.2.output.LayerNorm.weight', 'encoder.layer.2.output.dense.bias', 'encoder.layer.2.output.dense.weight', 'encoder.layer.3.intermediate.dense.bias', 'encoder.layer.3.intermediate.dense.weight', 'encoder.layer.3.output.LayerNorm.bias', 'encoder.layer.3.output.LayerNorm.weight', 'encoder.layer.3.output.dense.bias', 'encoder.layer.3.output.dense.weight', 'encoder.layer.4.intermediate.dense.bias', 'encoder.layer.4.intermediate.dense.weight', 'encoder.layer.4.output.LayerNorm.bias', 'encoder.layer.4.output.LayerNorm.weight', 'encoder.layer.4.output.dense.bias', 'encoder.layer.4.output.dense.weight', 'encoder.layer.5.intermediate.dense.bias', 'encoder.layer.5.intermediate.dense.weight', 'encoder.layer.5.output.LayerNorm.bias', 'encoder.layer.5.output.LayerNorm.weight', 'encoder.layer.5.output.dense.bias', 'encoder.layer.5.output.dense.weight', 'encoder.layer.6.intermediate.dense.bias', 'encoder.layer.6.intermediate.dense.weight', 'encoder.layer.6.output.LayerNorm.bias', 'encoder.layer.6.output.LayerNorm.weight', 'encoder.layer.6.output.dense.bias', 'encoder.layer.6.output.dense.weight', 'encoder.layer.7.intermediate.dense.bias', 'encoder.layer.7.intermediate.dense.weight', 'encoder.layer.7.output.LayerNorm.bias', 'encoder.layer.7.output.LayerNorm.weight', 'encoder.layer.7.output.dense.bias', 'encoder.layer.7.output.dense.weight', 'encoder.layer.8.intermediate.dense.bias', 'encoder.layer.8.intermediate.dense.weight', 'encoder.layer.8.output.LayerNorm.bias', 'encoder.layer.8.output.LayerNorm.weight', 'encoder.layer.8.output.dense.bias', 'encoder.layer.8.output.dense.weight', 'encoder.layer.9.intermediate.dense.bias', 'encoder.layer.9.intermediate.dense.weight', 'encoder.layer.9.output.LayerNorm.bias', 'encoder.layer.9.output.LayerNorm.weight', 'encoder.layer.9.output.dense.bias', 'encoder.layer.9.output.dense.weight']\n",
      "You should probably TRAIN this model on a down-stream task to be able to use it for predictions and inference.\n"
     ]
    }
   ],
   "source": [
    "'''\n",
    "llm = Ollama(base_url=\"http://localhost:11434\",\n",
    "             model=\"llama3\",\n",
    "             verbose=True,  \n",
    "             callback_manager=CallbackManager([StreamingStdOutCallbackHandler()]))\n",
    "'''\n",
    "llm = Ollama(base_url=\"http://localhost:11434\",\n",
    "             model=\"mistral\",\n",
    "             verbose=True,  \n",
    "             callback_manager=CallbackManager([StreamingStdOutCallbackHandler()]))\n",
    "\n",
    "hugg_embeddings = HuggingFaceEmbeddings(model_name= \"mxbai-embed-large-v1\")\n",
    "#Este en concreto es en español\n",
    "hugg_embeddings_jina = HuggingFaceEmbeddings(model_name= \"jinaai/jina-embeddings-v2-base-es\")\n",
    "\n",
    "hugg_embeddings_e5 = HuggingFaceEmbeddings(model_name = \"intfloat/multilingual-e5-base\")"
   ]
  },
  {
   "cell_type": "code",
   "execution_count": 18,
   "metadata": {},
   "outputs": [
    {
     "data": {
      "text/plain": [
       "0.8340035"
      ]
     },
     "execution_count": 18,
     "metadata": {},
     "output_type": "execute_result"
    }
   ],
   "source": [
    "import numpy as np\n",
    "from transformers import AutoModel\n",
    "from numpy.linalg import norm\n",
    "\n",
    "sentence1 = ['hola muy buenos dias','Buenos dias como estas']\n",
    "\n",
    "model = AutoModel.from_pretrained('jinaai/jina-embeddings-v2-base-es', trust_remote_code=True)\n"
   ]
  },
  {
   "cell_type": "code",
   "execution_count": 4,
   "metadata": {},
   "outputs": [],
   "source": [
    "myFile = 'annualreport.pdf'\n",
    "loader = PyPDFLoader(\"DATA/\" + myFile)\n",
    "\n",
    "data = loader.load()\n",
    "\n",
    "text_splitter = RecursiveCharacterTextSplitter(\n",
    "        chunk_size=500,\n",
    "        chunk_overlap=100,\n",
    "        length_function=len\n",
    "    )\n",
    "\n",
    "all_splits = text_splitter.split_documents(data)"
   ]
  },
  {
   "cell_type": "code",
   "execution_count": 5,
   "metadata": {},
   "outputs": [],
   "source": [
    "#Los embeddings estan vacios!!\n",
    "library = FAISS.from_documents(all_splits,hugg_embeddings_e5)\n",
    "#library = FAISS.from_documents(all_splits,OllamaEmbeddings(model=\"mistral\")"
   ]
  },
  {
   "cell_type": "code",
   "execution_count": 7,
   "metadata": {},
   "outputs": [
    {
     "data": {
      "text/plain": [
       "[Document(page_content='facilitates a culture of openness and debate.\\nGroup Chief Executive Officer\\nHaroon Sheikh is the Group CEO and \\naccountable to the Board for the day-to-day \\nrunning of the Group and management of  \\nthe strategic plan.\\nHaroon Sheikh is responsible for the following:\\n –Executive leadership of the Group’s \\nbusiness on a day-to-day basis.\\n –Developing the overall commercial \\nobjectives, and proposing and developing \\nthe strategy in conjunction with the Board \\nas a whole.', metadata={'source': 'DATA/annualreport.pdf', 'page': 42}),\n",
       " Document(page_content='in relation to his services as a Director on the Board. \\nBenefits \\nBenefits include car allowance (or company vehicle), vehicle expenses, healthcare insurance and relocation assistance. Relocation assistance \\nwith a value of £144,000 was provided to Haroon Sheikh in the year, to assist with his move to the Middle East, and included visa and \\nimmigration support, flights, housing and education fees.\\nPension arrangements', metadata={'source': 'DATA/annualreport.pdf', 'page': 49}),\n",
       " Document(page_content='2015 Haroon Sheikh 304 96% n/a\\n2014 Haroon Sheikh 298 69% n/a\\n2013 Haroon Sheikh 247 0% n/a\\n2012 Haroon Sheikh 259 0% n/a\\nNotes to the table: \\nSingle figure of total remuneration is as disclosed in previous Annual Reports, being the total figure in the  \\nrelevant table plus any pension amounts disclosed in the same table. Directors’ Remuneration Report continued', metadata={'source': 'DATA/annualreport.pdf', 'page': 51}),\n",
       " Document(page_content='sector and one of the UK’s leading \\nentrepreneurs and philanthropists. Along \\nwith his brother Farouq, he co-founded \\nCareTech. As Group CEO he actively leads \\nthe day-to-day running of the Group \\nand its international expansion, and has \\nbeen instrumental in assembling a highly \\ntalented leadership team, to support \\nthe continued growth of the business. \\nHaroon brings commercial acumen, \\nrelated industry experience and property \\nknowledge. He has a deep commitment', metadata={'source': 'DATA/annualreport.pdf', 'page': 40})]"
      ]
     },
     "execution_count": 7,
     "metadata": {},
     "output_type": "execute_result"
    }
   ],
   "source": [
    "#Los scores devueltos son la distancia L2 que hay entre dos vectores\n",
    "query = 'Who is Haroon Sheikh?'\n",
    "library.similarity_search_by_vector(hugg_embeddings_e5.embed_query(query))"
   ]
  },
  {
   "cell_type": "code",
   "execution_count": 77,
   "metadata": {},
   "outputs": [
    {
     "data": {
      "text/plain": [
       "[Document(page_content='sector and one of the UK’s leading \\nentrepreneurs and philanthropists. Along \\nwith his brother Farouq, he co-founded \\nCareTech. As Group CEO he actively leads \\nthe day-to-day running of the Group \\nand its international expansion, and has \\nbeen instrumental in assembling a highly \\ntalented leadership team, to support \\nthe continued growth of the business. \\nHaroon brings commercial acumen, \\nrelated industry experience and property \\nknowledge. He has a deep commitment', metadata={'source': 'DATA/annualreport.pdf', 'page': 40}),\n",
       " Document(page_content='facilitates a culture of openness and debate.\\nGroup Chief Executive Officer\\nHaroon Sheikh is the Group CEO and \\naccountable to the Board for the day-to-day \\nrunning of the Group and management of  \\nthe strategic plan.\\nHaroon Sheikh is responsible for the following:\\n –Executive leadership of the Group’s \\nbusiness on a day-to-day basis.\\n –Developing the overall commercial \\nobjectives, and proposing and developing \\nthe strategy in conjunction with the Board \\nas a whole.', metadata={'source': 'DATA/annualreport.pdf', 'page': 42}),\n",
       " Document(page_content='Haroon, a graduate of the University \\nof London, is a Founder Trustee of the \\nCareTech Charitable Foundation formed \\nin 2017, and is Chairman of the Trustees, \\nworking closely with the Foundation’s \\nCEO and independent Trustees.Jamie joined the Board as a Non-\\nExecutive Director in 2013. Following \\na long career in corporate advisory \\nand broking in the City, including \\nacting as Chief Executive Officer of \\nN+1Brewin LLP, and latterly as Senior \\nAdviser to Cantor Fitzgerald Europe,', metadata={'source': 'DATA/annualreport.pdf', 'page': 40}),\n",
       " Document(page_content='related industry experience and property \\nknowledge. He has a deep commitment \\nand passion for delivering high-quality \\ncare and support to people with  \\ncomplex needs. \\nHaroon is Patron and Enterprise Fellow of \\nthe Prince’s Trust and is a member of the \\nUK Advisory Council of the British Asian \\nTrust under the patronage of HRH The \\nPrince of Wales.\\nIn 2008, Haroon and Farouq were \\nwinners of the highly valued Coutts \\nFamily Business Prize and widely \\napplauded for the quality and social', metadata={'source': 'DATA/annualreport.pdf', 'page': 40})]"
      ]
     },
     "execution_count": 77,
     "metadata": {},
     "output_type": "execute_result"
    }
   ],
   "source": [
    "library.similarity_search_by_vector(hugg_embeddings.embed_query(query))"
   ]
  },
  {
   "cell_type": "code",
   "execution_count": 100,
   "metadata": {},
   "outputs": [
    {
     "data": {
      "text/plain": [
       "[(Document(page_content='Cumming, Karl Monaghan and Professor \\nMoira Livingston and are considered to be \\nindependent. Although Karl Monaghan has \\nserved on the Board for more than nine  \\nyears, the Board are satisfied that there are  \\nno matters which affects the independence  \\nof his judgement and as such Karl continues  \\nto act independently.The Board maintains regular focus on \\nsuccession planning for both Board and \\nsenior leadership roles. During the year, \\nthe Board has considered the desired skills,', metadata={'source': 'DATA/annualreport.pdf', 'page': 42}),\n",
       "  268.0751),\n",
       " (Document(page_content='accountant, having been admitted as a \\nmember of the ICAEW in 2004 and as \\na Fellow in 2014, and has a degree in \\nComputer and Management Science \\nfrom the University of Warwick.After graduating from University \\nCollege Dublin with a Bachelor of \\nCommerce degree, Karl trained as \\na chartered accountant with KPMG \\nin Dublin. He has worked in the \\ncorporate finance departments \\nat a number of merchant banks \\nand stockbrokers, latterly at Credit \\nLyonnais Securities for seven years', metadata={'source': 'DATA/annualreport.pdf', 'page': 40}),\n",
       "  299.44635),\n",
       " (Document(page_content='and stockbrokers, latterly at Credit \\nLyonnais Securities for seven years \\nand Robert W. Baird for two years until \\nJune 2002. Karl set up Ashling Capital \\nLLP in December 2002 to provide \\nconsultancy services to quoted \\nand private companies. He sits on a \\nnumber of AIM quoted and private \\ncompany boards.January 2020 October 2005\\nHaroon is amongst the most experienced \\nCEOs in the health and social care \\nsector and one of the UK’s leading \\nentrepreneurs and philanthropists. Along', metadata={'source': 'DATA/annualreport.pdf', 'page': 40}),\n",
       "  316.14777),\n",
       " (Document(page_content='challenge and strategic guidance. In the \\nfurtherance of their duties, all Directors are \\nable to take independent professional advice \\nat the expense of the Group and those \\nnewly-appointed are made aware of their \\nresponsibilities by the Company Secretary.  \\nThe Board approves the appointment and \\nremoval of the Company Secretary.\\nThe Non-Executive Directors comprise Jamie \\nCumming, Karl Monaghan and Professor \\nMoira Livingston and are considered to be', metadata={'source': 'DATA/annualreport.pdf', 'page': 42}),\n",
       "  317.76202)]"
      ]
     },
     "execution_count": 100,
     "metadata": {},
     "output_type": "execute_result"
    }
   ],
   "source": [
    "library.similarity_search_with_score(\"'Tell me all you know abour Karl Monaghan'\")"
   ]
  },
  {
   "cell_type": "code",
   "execution_count": 25,
   "metadata": {},
   "outputs": [
    {
     "data": {
      "text/plain": [
       "[(Document(page_content='ensure we provide value in all areas of our \\nbusiness. It is challenging to ensure all of our \\nstakeholders have the same experience with \\nthe Group, due to our wide range of locations, \\noperations and roles; therefore, we promote an \\nongoing dialogue with all our stakeholders to \\nenable us to effectively act on feedback, and \\nwe foster a culture of honesty and integrity.\\nour approach to looking  \\nafter people in our care\\nWe believe the wellbeing of those entrusted', metadata={'source': 'DATA/annualreport.pdf', 'page': 24}),\n",
       "  170.37415),\n",
       " (Document(page_content='12.75p for 2021.\\nEngagement with our stakeholders\\nThe six key stakeholders identified by the \\nBoard are at the heart of what we do, being: \\npeople in our care; our customers; our \\nshareholders; our Regulators; people; and our \\nsuppliers. It is of the highest importance to us \\nthat we engage with all of our stakeholders meaningfully, to inform decision-making and \\nensure we provide value in all areas of our \\nbusiness. It is challenging to ensure all of our', metadata={'source': 'DATA/annualreport.pdf', 'page': 24}),\n",
       "  172.257),\n",
       " (Document(page_content='HOW WE DO IT\\nWe listen to our stakeholders\\nWe seek to engage in constructive dialogue with \\nstakeholders to gather a holistic understanding of their \\nkey expectations and concerns. Our key stakeholders \\ninclude shareholders, people in our care and their families, \\nregulators, suppliers, customers and the communities in \\nwhich we operate. \\n  Some examples of how Care tech purposefully \\nengages with key stakeholder groups are set  \\nout on pages 46 to 51. \\nWe look after our people', metadata={'source': 'DATA/annualreport.pdf', 'page': 5}),\n",
       "  178.50986),\n",
       " (Document(page_content='and maximising the benefits of a strong \\nrelationship with its stakeholders is an integral \\npart of a continuing process of building  \\nlong-term value.\\nThe Group’s framework of controls includes \\nidentification and management of any \\nconflicts of interests. The Board follows \\nspecific procedures to identify potential \\nconflicts of interest, including those in relation \\nto significant shareholders. Firstly, only \\nindependent Directors (i.e. those that have', metadata={'source': 'DATA/annualreport.pdf', 'page': 39}),\n",
       "  182.8508)]"
      ]
     },
     "execution_count": 25,
     "metadata": {},
     "output_type": "execute_result"
    }
   ],
   "source": [
    "query_2 = 'How we can create value for our stakeholders?'\n",
    "library.similarity_search_with_score(query_2)"
   ]
  },
  {
   "cell_type": "code",
   "execution_count": 78,
   "metadata": {},
   "outputs": [
    {
     "data": {
      "text/plain": [
       "[Document(page_content='ensure we provide value in all areas of our \\nbusiness. It is challenging to ensure all of our \\nstakeholders have the same experience with \\nthe Group, due to our wide range of locations, \\noperations and roles; therefore, we promote an \\nongoing dialogue with all our stakeholders to \\nenable us to effectively act on feedback, and \\nwe foster a culture of honesty and integrity.\\nour approach to looking  \\nafter people in our care\\nWe believe the wellbeing of those entrusted', metadata={'source': 'DATA/annualreport.pdf', 'page': 24}),\n",
       " Document(page_content='12.75p for 2021.\\nEngagement with our stakeholders\\nThe six key stakeholders identified by the \\nBoard are at the heart of what we do, being: \\npeople in our care; our customers; our \\nshareholders; our Regulators; people; and our \\nsuppliers. It is of the highest importance to us \\nthat we engage with all of our stakeholders meaningfully, to inform decision-making and \\nensure we provide value in all areas of our \\nbusiness. It is challenging to ensure all of our', metadata={'source': 'DATA/annualreport.pdf', 'page': 24}),\n",
       " Document(page_content='HOW WE DO IT\\nWe listen to our stakeholders\\nWe seek to engage in constructive dialogue with \\nstakeholders to gather a holistic understanding of their \\nkey expectations and concerns. Our key stakeholders \\ninclude shareholders, people in our care and their families, \\nregulators, suppliers, customers and the communities in \\nwhich we operate. \\n  Some examples of how Care tech purposefully \\nengages with key stakeholder groups are set  \\nout on pages 46 to 51. \\nWe look after our people', metadata={'source': 'DATA/annualreport.pdf', 'page': 5}),\n",
       " Document(page_content='and maximising the benefits of a strong \\nrelationship with its stakeholders is an integral \\npart of a continuing process of building  \\nlong-term value.\\nThe Group’s framework of controls includes \\nidentification and management of any \\nconflicts of interests. The Board follows \\nspecific procedures to identify potential \\nconflicts of interest, including those in relation \\nto significant shareholders. Firstly, only \\nindependent Directors (i.e. those that have', metadata={'source': 'DATA/annualreport.pdf', 'page': 39})]"
      ]
     },
     "execution_count": 78,
     "metadata": {},
     "output_type": "execute_result"
    }
   ],
   "source": [
    "library.similarity_search_by_vector(hugg_embeddings.embed_query(query_2))"
   ]
  },
  {
   "cell_type": "code",
   "execution_count": null,
   "metadata": {},
   "outputs": [],
   "source": [
    "#Construir una cadena y pasarsela a un llm2 que será con llama 3 ok \n",
    "#hacer el prompt template y ver que contextos coge para hacer la respuesta. ok\n",
    "#probar las diferentes distancias que vienen en la bdd de faiss y ver como funciona la distancia euclidea. ok solo tiene l2 y vector pero no deja elegirla en el retriver \n",
    "#comprobar tambien si se pueden hacer busquedas literales y no solo semánticas \n",
    "#ver como funciona el search with score (mas score mejor o menos) ok score es la distancia euclidea entre dos vectores\n",
    "#controlar las alucinaciones ok\n",
    "\n",
    "#ver como podemos seguir mejorando la primera parte por ejemplo chunks,, combinar dos llms o incluir algun \n",
    "#modelo de vision artificial... por ejemplo llavanext "
   ]
  },
  {
   "cell_type": "code",
   "execution_count": 111,
   "metadata": {},
   "outputs": [
    {
     "data": {
      "text/plain": [
       "[]"
      ]
     },
     "execution_count": 111,
     "metadata": {},
     "output_type": "execute_result"
    }
   ],
   "source": [
    "#query = who is Haaron Sheikh?\n",
    "retriever_Ex = library.as_retriever(search_kwargs={\"score_threshold\": 200,\"k\": 4})\n",
    "filtered_docs = retriever_Ex.get_relevant_documents('Tell me all you know abour Karl Monaghan')\n",
    "filtered_docs\n"
   ]
  },
  {
   "cell_type": "code",
   "execution_count": 8,
   "metadata": {},
   "outputs": [],
   "source": [
    "#from langchain.chains import ConversationalRetrievalChain\n",
    "\n",
    "#chain = ConversationalRetrievalChain.from_llm(llama3, library.as_retriever(), return_source_documents=True)"
   ]
  },
  {
   "cell_type": "code",
   "execution_count": 131,
   "metadata": {},
   "outputs": [],
   "source": [
    "template = \"\"\"\n",
    "    You are a knowledgeable chatbot, here to help with questions of the user.\n",
    "    Your tone should be professional and informative.\n",
    "\n",
    "    Context: {context}\n",
    "    History: {history}\n",
    "\n",
    "    User: {question}\n",
    "    Chatbot:\n",
    "    It is mandatorian that if the answer is not in the context, answer \"I have not enough context in order to answer this\" and stop the answer.\n",
    "\"\"\"\n",
    "\n",
    "prompt = PromptTemplate(\n",
    "    input_variables=[\"history\", \"context\", \"question\"],\n",
    "    template=template,\n",
    ")\n",
    "\n",
    "memory = ConversationBufferMemory(\n",
    "    memory_key=\"history\",\n",
    "    return_messages=True,\n",
    "    input_key=\"question\"\n",
    ")\n"
   ]
  },
  {
   "cell_type": "code",
   "execution_count": 132,
   "metadata": {},
   "outputs": [],
   "source": [
    "qa_chain = RetrievalQA.from_chain_type(\n",
    "    llm=llm,\n",
    "    chain_type='stuff',\n",
    "    retriever=library.as_retriever(search_kwargs={\"score_threshold\": 200,\"k\": 4}),\n",
    "    verbose=True,\n",
    "    chain_type_kwargs={\n",
    "        \"verbose\": True,\n",
    "        \"prompt\": prompt,\n",
    "        \"memory\": memory,\n",
    "    }\n",
    ")"
   ]
  },
  {
   "cell_type": "code",
   "execution_count": 133,
   "metadata": {},
   "outputs": [
    {
     "name": "stdout",
     "output_type": "stream",
     "text": [
      "\n",
      "\n",
      "\u001b[1m> Entering new RetrievalQA chain...\u001b[0m\n",
      "\n",
      "\n",
      "\u001b[1m> Entering new StuffDocumentsChain chain...\u001b[0m\n",
      "\n",
      "\n",
      "\u001b[1m> Entering new LLMChain chain...\u001b[0m\n",
      "Prompt after formatting:\n",
      "\u001b[32;1m\u001b[1;3m\n",
      "    You are a knowledgeable chatbot, here to help with questions of the user.\n",
      "    Your tone should be professional and informative.\n",
      "\n",
      "    Context: CareTech has 16 years on the public markets \n",
      "and grown to over 550 services supporting \n",
      "close to 5,000 service users. The business has \n",
      "increased its range of services to offer a broad \n",
      "Care Pathway which was expanded during \n",
      "the year with the acquisition of Smartbox and \n",
      "the creation of a Digital Technology division. \n",
      "Continuing to be innovative and develop a \n",
      "range of Care Pathways will continue to help \n",
      "many of the adults, young people and children \n",
      "we support to live more independently.\n",
      "\n",
      "management. We work closely with our \n",
      "regulators and commissioners across \n",
      "England, Scotland and Wales. \n",
      "CareTech is a well-known care Group in \n",
      "public ownership and offers high-quality \n",
      "services with a strong ethical and values-\n",
      "based approach. We have upper quartile \n",
      "ratings for both CQC and Ofsted and  \n",
      "have ambitions to improve these.  Our quality assurance is embedded within \n",
      "the Group’s operational management \n",
      "structure – from the Home Manager, \n",
      "Regional Manager and Operations Director,\n",
      "\n",
      "steadily consolidating and a very small \n",
      "number of large ‘corporate’ providers \n",
      "have emerged, with CareTech being \n",
      "one of the bigger players within the \n",
      "non-elderly care sector. The Adults specialist care market is \n",
      "the most fragmented with the top four \n",
      "largest providers having 7.5% market \n",
      "share and the ten largest players only \n",
      "13.5% market share.The markets that CareTech serves are \n",
      "regulated by CQC and Ofsted in England, \n",
      "and equivalent regulatory bodies in\n",
      "\n",
      "REGULATORY RATING (%) – FACILITIES  \n",
      "RATED ‘GOOD’ OR ‘OUTSTANDING’\n",
      "CQC86% \n",
      "(2020: 91%)\n",
      "Ofsted80% \n",
      "(2020: 82%)ANNUALISED RETENTION RATE\n",
      "71% \n",
      "(2020: 75%)\n",
      "How this is calculated\n",
      "The markets that CareTech operates in are regulated by Ofsted and \n",
      "the CQC and their equivalents in Scotland and Wales. Each facility \n",
      "is inspected and given a score, with a range of outcomes from \n",
      "‘Outstanding’, ‘Good’, ‘Requires Improvement’ to ‘Inadequate’  \n",
      "(or equivalent).\n",
      "Performance this year\n",
      "    History: []\n",
      "\n",
      "    User: How many sites operate CareTech across the UK\n",
      "    Chatbot:\n",
      "    It is mandatorian that if the answer is not in the context, answer \"I have not enough context in order to answer this\" and stop the answer.\n",
      "\u001b[0m\n",
      " I have not enough context in order to answer this question as the number of sites operated by CareTech across the UK is not mentioned in the provided context.\n",
      "\u001b[1m> Finished chain.\u001b[0m\n",
      "\n",
      "\u001b[1m> Finished chain.\u001b[0m\n",
      "\n",
      "\u001b[1m> Finished chain.\u001b[0m\n"
     ]
    },
    {
     "data": {
      "text/plain": [
       "{'query': 'How many sites operate CareTech across the UK',\n",
       " 'result': ' I have not enough context in order to answer this question as the number of sites operated by CareTech across the UK is not mentioned in the provided context.'}"
      ]
     },
     "execution_count": 133,
     "metadata": {},
     "output_type": "execute_result"
    }
   ],
   "source": [
    "#pagina 07 imagen a la derecha\n",
    "result = qa_chain({\"query\": \"How many sites operate CareTech across the UK\"})\n",
    "result"
   ]
  }
 ],
 "metadata": {
  "kernelspec": {
   "display_name": "envPRUEBA",
   "language": "python",
   "name": "python3"
  },
  "language_info": {
   "codemirror_mode": {
    "name": "ipython",
    "version": 3
   },
   "file_extension": ".py",
   "mimetype": "text/x-python",
   "name": "python",
   "nbconvert_exporter": "python",
   "pygments_lexer": "ipython3",
   "version": "3.10.12"
  }
 },
 "nbformat": 4,
 "nbformat_minor": 2
}
