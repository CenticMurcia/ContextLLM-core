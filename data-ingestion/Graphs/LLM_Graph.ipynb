{
 "cells": [
  {
   "cell_type": "code",
   "execution_count": 19,
   "metadata": {},
   "outputs": [],
   "source": [
    "#librerias\n",
    "# pip freeze | xargs pip uninstall -y eliminar librerias instaladas dentro de un entorno virtual\n",
    "from langchain.embeddings import HuggingFaceEmbeddings\n",
    "from langchain_experimental.graph_transformers import LLMGraphTransformer\n",
    "from langchain.callbacks.manager import CallbackManager\n",
    "from langchain.callbacks.streaming_stdout import StreamingStdOutCallbackHandler\n",
    "from langchain.llms import Ollama"
   ]
  },
  {
   "cell_type": "code",
   "execution_count": 17,
   "metadata": {},
   "outputs": [],
   "source": [
    "#TExto de ejemplo\n",
    "from langchain_core.documents import Document\n",
    "\n",
    "text = \"\"\"\n",
    "Marie Curie, born in 1867, was a Polish and naturalised-French physicist and chemist who conducted pioneering research on radioactivity.\n",
    "She was the first woman to win a Nobel Prize, the first person to win a Nobel Prize twice, and the only person to win a Nobel Prize in two scientific fields.\n",
    "Her husband, Pierre Curie, was a co-winner of her first Nobel Prize, making them the first-ever married couple to win the Nobel Prize and launching the Curie family legacy of five Nobel Prizes.\n",
    "She was, in 1906, the first woman to become a professor at the University of Paris.\n",
    "\"\"\"\n",
    "documents = [Document(page_content=text)]"
   ]
  },
  {
   "cell_type": "code",
   "execution_count": 22,
   "metadata": {},
   "outputs": [],
   "source": [
    "#LLm\n",
    "#embedding model \n",
    "#Nota: Si el archivo es privado, el notebook tiene que tener acceso a la carpeta del modelo, para que acceda directo de HF necesitara token y apikey\n",
    "hugg_embeddings = HuggingFaceEmbeddings(model_name= \"mxbai-embed-large-v1\")\n",
    "\n",
    "llm = Ollama(base_url=\"http://localhost:11434\",\n",
    "             model=\"mistral\",\n",
    "             verbose=True,  \n",
    "             callback_manager=CallbackManager([StreamingStdOutCallbackHandler()]))\n",
    "\n",
    "\n",
    "llm_transformer = LLMGraphTransformer(llm=llm)"
   ]
  },
  {
   "cell_type": "code",
   "execution_count": 23,
   "metadata": {},
   "outputs": [
    {
     "name": "stdout",
     "output_type": "stream",
     "text": [
      " [{\"head\": \"Marie Curie\", \"head_type\": \"Person\", \"relation\": \"BORN_IN\", \"tail\": \"1867\", \"tail_type\": \"Year\"},\n",
      " {\"head\": \"Marie Curie\", \"head_type\": \"Person\", \"relation\": \"FIRST_WIN_NOBEL_PRIZE\", \"\", \"tail\": \"\", \"tail_type\": \"\"},\n",
      " {\"head\": \"Marie Curie\", \"head_type\": \"Person\", \"relation\": \"FIRST_PERSON_WIN_TWICE_NOBEL_PRIZE\", \"\", \"tail\": \"\", \"tail_type\": \"\"},\n",
      " {\"head\": \"Marie Curie\", \"head_type\": \"Person\", \"relation\": \"FIRST_PERSON_WIN_NOBEL_PRIZE_IN_TWO_SCIENTIFIC_FIELDS\", \"\", \"tail\": \"\", \"tail_type\": \"\"},\n",
      " {\"head\": \"Marie Curie\", \"head_type\": \"Person\", \"relation\": \"MARRIED_TO\", \"tail\": \"Pierre Curie\", \"tail_type\": \"Person\"},\n",
      " {\"head\": \"Marie Curie\", \"head_type\": \"Person\", \"relation\": \"FIRST_PERSON_BECOME_PROFESSOR_AT_UNIVERSITY_OF_PARIS\", \"\", \"tail\": \"\", \"tail_type\": \"\"},\n",
      " {\"head\": \"Pierre Curie\", \"head_type\": \"Person\", \"relation\": \"MARRIED_TO\", \"tail\": \"Marie Curie\", \"tail_type\": \"Person\"},\n",
      " {\"head\": \"Marie Curie\", \"head_type\": \"Person\", \"relation\": \"LAUNCHED_FAMILY_LEGACY_OF_NOBEL_PRIZES\", \"\", \"tail\": \"\", \"tail_type\": \"\"},\n",
      " {\"head\": \"Pierre Curie\", \"head_type\": \"Person\", \"relation\": \"CO_WINNER_FIRST_NOBEL_PRIZE\", \"tail\": \"Marie Curie\", \"tail_type\": \"Person\"}]"
     ]
    }
   ],
   "source": [
    "#graphs constructor \n",
    "graph_documents = llm_transformer.convert_to_graph_documents(documents)"
   ]
  },
  {
   "cell_type": "code",
   "execution_count": 75,
   "metadata": {},
   "outputs": [
    {
     "name": "stdout",
     "output_type": "stream",
     "text": [
      "\n",
      "Pierre Curie\n",
      "1867\n",
      "Marie Curie\n"
     ]
    },
    {
     "data": {
      "text/plain": [
       "'BORN_IN'"
      ]
     },
     "execution_count": 75,
     "metadata": {},
     "output_type": "execute_result"
    }
   ],
   "source": [
    "#Modificar para que estén en tripletas [(nodo1,nodo2,relación)]\n",
    "graph_documents[0].nodes\n",
    "#graph_documents[0].relationships\n",
    "for nodo in graph_documents[0].nodes:\n",
    "    print(nodo.id)\n",
    "\n",
    "graph_documents[0].relationships[0].source\n",
    "graph_documents[0].relationships[0].target\n",
    "graph_documents[0].relationships[0].type"
   ]
  },
  {
   "cell_type": "code",
   "execution_count": 52,
   "metadata": {},
   "outputs": [
    {
     "name": "stdout",
     "output_type": "stream",
     "text": [
      "index.html\n"
     ]
    }
   ],
   "source": [
    "#mostrar grafo: \n",
    "from pyvis.network import Network\n",
    "net = Network()\n",
    "net.add_node('nodo', label = 'node1')\n",
    "net.add_node('nodo2', label = 'nodo2')\n",
    "net.add_edge('nodo', 'nodo2', label = 'edge1')\n",
    "\n",
    "#net.show(\"index.html\", local = True, notebook = False)"
   ]
  },
  {
   "cell_type": "code",
   "execution_count": 89,
   "metadata": {},
   "outputs": [
    {
     "name": "stdout",
     "output_type": "stream",
     "text": [
      "index_2.html\n"
     ]
    }
   ],
   "source": [
    "#nuevo grafo: \n",
    "newnet = Network()\n",
    "#añadimos nodos: \n",
    "for nodo in graph_documents[0].nodes:\n",
    "    newnet.add_node(nodo.id, label = nodo.id)\n",
    "\n",
    "#añadimos conexiones: \n",
    "for rel in graph_documents[0].relationships:\n",
    "    newnet.add_edge(rel.source.id,rel.target.id,label = rel.type)\n",
    "\n",
    "newnet.show(\"index_2.html\", local = True, notebook = False)"
   ]
  },
  {
   "cell_type": "code",
   "execution_count": 88,
   "metadata": {},
   "outputs": [
    {
     "name": "stdout",
     "output_type": "stream",
     "text": [
      " [{\"head\": \"Ada Lovelace\", \"head_type\": \"Person\", \"relation\": \"BORN_IN_YEAR\", \"tail\": \"1815\", \"tail_type\": \"Year\"},\n",
      " {\"head\": \"Ada Lovelace\", \"head_type\": \"Person\", \"relation\": \"KNOWN_FOR\", \"tail\": \"computer programming\", \"tail_type\": \"Occupation\"},\n",
      " {\"head\": \"Ada Lovelace\", \"head_type\": \"Person\", \"relation\": \"WORKED_WITH\", \"tail\": \"Charles Babbage\", \"tail_type\": \"Person\"},\n",
      " {\"head\": \"Charles Babbage\", \"head_type\": \"Person\", \"relation\": \"DEVELOPED\", \"tail\": \"Analytical Engine\", \"tail_type\": \"Machine\"},\n",
      " {\"head\": \"Ada Lovelace\", \"head_type\": \"Person\", \"relation\": \"PUBLISHED_ALGORITHM\", \"tail\": \"first algorithm for a machine\", \"tail_type\": \"Algorithm\"},\n",
      " {\"head\": \"Ada Lovelace\", \"head_type\": \"Person\", \"relation\": \"TRANSLATED_PAPER\", \"tail\": \"on Babbage's machine\", \"tail_type\": \"Document\"},\n",
      " {\"head\": \"Ada Lovelace\", \"head_type\": \"Person\", \"relation\": \"ADDED_NOTES\", \"tail\": \"her visionary ideas about the future of computing\", \"tail_type\": \"Ideas\"},\n",
      " {\"head\": \"Ada Lovelace\", \"head_type\": \"Person\", \"relation\": \"INFLUENCED\", \"tail\": \"modern computing\", \"tail_type\": \"Field\"},\n",
      " {\"head\": \"Ada Lovelace\", \"head_type\": \"Person\", \"relation\": \"INSPIRED\", \"tail\": \"generations of scientists and mathematicians\", \"tail_type\": \"People\"},\n",
      " {\"head\": \"U.S. Department of Defense\", \"head_type\": \"Organization\", \"relation\": \"DEDICATED_COMPUTER_LANGUAGE\", \"tail\": \"Ada\", \"tail_type\": \"Language\"},\n",
      " {\"head\": \"October 2nd\", \"head_type\": \"Day\", \"relation\": \"CELEBRATED_AS\", \"tail\": \"Ada Lovelace Day\", \"tail_type\": \"Event\"}]"
     ]
    }
   ],
   "source": [
    "text = \"\"\"\n",
    "Ada Lovelace, born in 1815, was an English mathematician and writer, chiefly known for her work on Charles Babbage's early mechanical general-purpose computer, the Analytical Engine. She was the first to recognize that the machine had applications beyond pure calculation, and she published the first algorithm intended to be carried out by such a machine, thus earning her the title of the world’s first computer programmer.\n",
    "\n",
    "Lovelace’s contributions were truly groundbreaking, envisioning the potential of computers to go beyond numerical calculations to process symbols and create music. Her insights laid the foundational concepts for modern computing and demonstrated a deep understanding of the machine’s potential, decades ahead of her time.\n",
    "\n",
    "Her interest in mathematics was nurtured by her mother, who insisted on a rigorous education despite the societal norms of the time. Lovelace's collaboration with Babbage began in her late teens and continued throughout her life, with her most famous work being the translation of an Italian paper on Babbage's machine, to which she added her own comprehensive notes that included her visionary ideas about the future of computing.\n",
    "\n",
    "In her notes, she articulated the concept of a machine that could manipulate symbols in accordance with rules and numbers, anticipating the development of computer algorithms and programming languages. Her vision of a machine that could compose music, produce graphics, and be used for scientific purposes is remarkably prescient and is seen as the first conceptual leap from calculating machines to general-purpose computers.\n",
    "\n",
    "Despite her significant contributions, Ada Lovelace’s work was largely overlooked during her lifetime, but she has since been rightfully recognized as a pioneer in the field of computer science. Her legacy lives on, inspiring generations of scientists and mathematicians, particularly women in STEM fields.\n",
    "\n",
    "In 1980, the U.S. Department of Defense named a newly developed computer language “Ada” in her honor, acknowledging her as a foundational figure in the history of computing. Ada Lovelace Day, celebrated on the second Tuesday of October, honors her contributions and highlights the achievements of women in science, technology, engineering, and mathematics (STEM).\n",
    "\"\"\"\n",
    "documents = [Document(page_content=text)]\n",
    "graph_documents = llm_transformer.convert_to_graph_documents(documents)"
   ]
  },
  {
   "cell_type": "code",
   "execution_count": null,
   "metadata": {},
   "outputs": [],
   "source": [
    "#Question una vez creada la base de conocimiento con un grafo como se le pasa al modelo para que tome información \n",
    "\n",
    "#Se añade el graph_documents que hemos generado a Neo4J\n",
    "import os\n",
    "\n",
    "from langchain_community.graphs import Neo4jGraph\n",
    "\n",
    "# os.environ[\"NEO4J_URI\"] = \"bolt://localhost:7687\"\n",
    "# os.environ[\"NEO4J_USERNAME\"] = \"neo4j\"\n",
    "# os.environ[\"NEO4J_PASSWORD\"] = \"password\"\n",
    "\n",
    "graph = Neo4jGraph()\n",
    "\n",
    "#Una vez generado el grafo, se guarda en la db:\n",
    "graph.add_graph_documents(graph_documents)"
   ]
  },
  {
   "cell_type": "code",
   "execution_count": null,
   "metadata": {},
   "outputs": [],
   "source": [
    "#Ahora una vez se tiene la query del usuario, se utiliza un LLM para generar una consulta cypher que ayude a contestar la pregunta \n",
    "from langchain.chains import GraphCypherQAChain\n",
    "\n",
    "chain = GraphCypherQAChain.from_llm(graph=graph, llm=llm, verbose=True)\n",
    "response = chain.invoke({\"query\": \"Here the question\"})\n",
    "response"
   ]
  }
 ],
 "metadata": {
  "kernelspec": {
   "display_name": "graphs",
   "language": "python",
   "name": "python3"
  },
  "language_info": {
   "codemirror_mode": {
    "name": "ipython",
    "version": 3
   },
   "file_extension": ".py",
   "mimetype": "text/x-python",
   "name": "python",
   "nbconvert_exporter": "python",
   "pygments_lexer": "ipython3",
   "version": "3.10.7"
  }
 },
 "nbformat": 4,
 "nbformat_minor": 2
}
