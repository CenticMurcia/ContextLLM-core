{
 "cells": [
  {
   "cell_type": "code",
   "execution_count": 3,
   "metadata": {},
   "outputs": [
    {
     "name": "stderr",
     "output_type": "stream",
     "text": [
      "[nltk_data] Downloading package stopwords to\n",
      "[nltk_data]     /home/joseacentic/nltk_data...\n",
      "[nltk_data]   Package stopwords is already up-to-date!\n"
     ]
    }
   ],
   "source": [
    "from FlagEmbedding import BGEM3FlagModel\n",
    "import os\n",
    "import numpy as np\n",
    "import json\n",
    "from transformers import AutoTokenizer\n",
    "from tqdm import tqdm\n",
    "import pandas as pd\n",
    "import re\n",
    "import string\n",
    "import nltk\n",
    "nltk.download('stopwords')\n",
    "from nltk.corpus import stopwords\n",
    "import matplotlib.pyplot as plt\n",
    "from sklearn.manifold import TSNE"
   ]
  },
  {
   "cell_type": "code",
   "execution_count": 2,
   "metadata": {},
   "outputs": [
    {
     "name": "stderr",
     "output_type": "stream",
     "text": [
      "Fetching 22 files: 100%|██████████| 22/22 [00:00<?, ?it/s]\n"
     ]
    }
   ],
   "source": [
    "model = BGEM3FlagModel('BAAI/bge-m3',  use_fp16=True)"
   ]
  },
  {
   "cell_type": "code",
   "execution_count": 18,
   "metadata": {},
   "outputs": [
    {
     "data": {
      "text/plain": [
       "0.72925144"
      ]
     },
     "execution_count": 18,
     "metadata": {},
     "output_type": "execute_result"
    }
   ],
   "source": [
    "sentence1 = 'Hola'\n",
    "sentence2 = 'Buenos días'\n",
    "\n",
    "emb1 = model.encode(sentence1)['dense_vecs']\n",
    "emb2 = model.encode(sentence2)['dense_vecs']\n",
    "\n",
    "emb1 @ emb2\n"
   ]
  },
  {
   "cell_type": "code",
   "execution_count": 3,
   "metadata": {},
   "outputs": [],
   "source": [
    "with open('./DATA/articles.json', 'r') as articlesFile:\n",
    "    articles =  json.load(articlesFile)"
   ]
  },
  {
   "cell_type": "code",
   "execution_count": 35,
   "metadata": {},
   "outputs": [],
   "source": [
    "#Eliminar tickets que tengan mas de 8192 tokens \n",
    "#encontrar el tokenizador que usa BGE-m3\n",
    "tokenizer = AutoTokenizer.from_pretrained('BAAI/bge-m3')"
   ]
  },
  {
   "cell_type": "code",
   "execution_count": 36,
   "metadata": {},
   "outputs": [],
   "source": [
    "def tok(cadena):\n",
    "    return tokenizer.encode(cadena)"
   ]
  },
  {
   "cell_type": "code",
   "execution_count": 29,
   "metadata": {},
   "outputs": [
    {
     "name": "stderr",
     "output_type": "stream",
     "text": [
      " 19%|█▉        | 59/310 [25:45<2:49:56, 40.62s/it]Token indices sequence length is longer than the specified maximum sequence length for this model (9302 > 8192). Running this sequence through the model will result in indexing errors\n"
     ]
    },
    {
     "name": "stdout",
     "output_type": "stream",
     "text": [
      "El articulo 360015286579 supera el numero máximo de tokens permitidos. Tiene 9302 tokens.\n"
     ]
    },
    {
     "name": "stderr",
     "output_type": "stream",
     "text": [
      " 55%|█████▍    | 170/310 [1:08:13<19:30,  8.36s/it]  "
     ]
    },
    {
     "name": "stdout",
     "output_type": "stream",
     "text": [
      "El articulo 7740012887324 supera el numero máximo de tokens permitidos. Tiene 10361 tokens.\n"
     ]
    },
    {
     "name": "stderr",
     "output_type": "stream",
     "text": [
      " 79%|███████▊  | 244/310 [1:37:10<15:16, 13.89s/it]  "
     ]
    },
    {
     "name": "stdout",
     "output_type": "stream",
     "text": [
      "El articulo 7873107334812 supera el numero máximo de tokens permitidos. Tiene 12409 tokens.\n"
     ]
    },
    {
     "name": "stderr",
     "output_type": "stream",
     "text": [
      "100%|██████████| 310/310 [1:56:49<00:00, 22.61s/it]\n"
     ]
    }
   ],
   "source": [
    "#Extraer embedings de los articulos:\n",
    "\n",
    "valid_articles = []\n",
    "\n",
    "for article in tqdm(articles):\n",
    "\n",
    "    tokens = len(tok(article['body']))\n",
    "\n",
    "    if tokens <= 8192:\n",
    "        article['emb_body'] = model.encode(article['body'])['dense_vecs']\n",
    "        valid_articles.append(article)\n",
    "    else:\n",
    "        print(f\"El articulo {article['id']} supera el numero máximo de tokens permitidos. Tiene {tokens} tokens.\")"
   ]
  },
  {
   "cell_type": "code",
   "execution_count": 39,
   "metadata": {},
   "outputs": [],
   "source": [
    "for a in valid_articles:\n",
    "    a['emb_body'] = a['emb_body'].tolist()"
   ]
  },
  {
   "cell_type": "code",
   "execution_count": 40,
   "metadata": {},
   "outputs": [],
   "source": [
    "#guardamos los embeddings\n",
    "with open('./DATA/articles_emb_bgem3.json','w') as f:\n",
    "    f.write(json.dumps(valid_articles, indent = 4))"
   ]
  },
  {
   "cell_type": "code",
   "execution_count": 4,
   "metadata": {},
   "outputs": [],
   "source": [
    "#lectura de embeddings: \n",
    "with open('./DATA/articles_emb_bgem3.json','r') as f: \n",
    "    valid_articles = json.load(f)"
   ]
  },
  {
   "cell_type": "code",
   "execution_count": 5,
   "metadata": {},
   "outputs": [],
   "source": [
    "def calculaDistancia(pregunta, limit):\n",
    "    df = pd.DataFrame(columns = ['id','title', 'emb'])\n",
    "    print(pregunta)\n",
    "    for a in valid_articles:\n",
    "        dic = {}\n",
    "        dic['id'] = [a['id']]\n",
    "        dic['title'] = [a['title']]\n",
    "        dic['emb'] = [a['emb_body']]\n",
    "        #df = df.append(dic, ignore_index = True)\n",
    "        df = pd.concat([df, pd.DataFrame(dic, index=[0])], ignore_index=True)\n",
    "\n",
    "    #convertimos la pregunta a embedding:\n",
    "    emb_preg = model.encode(pregunta)['dense_vecs'] \n",
    "    df['distancia'] = df['emb'].apply(lambda x: np.array(x) @ emb_preg)\n",
    "    df = df.sort_values('distancia', ascending = False)\n",
    "    return df.head(limit)"
   ]
  },
  {
   "cell_type": "code",
   "execution_count": 37,
   "metadata": {},
   "outputs": [
    {
     "name": "stdout",
     "output_type": "stream",
     "text": [
      "Cómo fidelizar a tus compradores de Hot Sale\n"
     ]
    },
    {
     "data": {
      "text/html": [
       "<div>\n",
       "<style scoped>\n",
       "    .dataframe tbody tr th:only-of-type {\n",
       "        vertical-align: middle;\n",
       "    }\n",
       "\n",
       "    .dataframe tbody tr th {\n",
       "        vertical-align: top;\n",
       "    }\n",
       "\n",
       "    .dataframe thead th {\n",
       "        text-align: right;\n",
       "    }\n",
       "</style>\n",
       "<table border=\"1\" class=\"dataframe\">\n",
       "  <thead>\n",
       "    <tr style=\"text-align: right;\">\n",
       "      <th></th>\n",
       "      <th>id</th>\n",
       "      <th>title</th>\n",
       "      <th>emb</th>\n",
       "      <th>distancia</th>\n",
       "    </tr>\n",
       "  </thead>\n",
       "  <tbody>\n",
       "    <tr>\n",
       "      <th>129</th>\n",
       "      <td>6029655913116</td>\n",
       "      <td>Cupón a compradores</td>\n",
       "      <td>[-0.06487193703651428, -0.010833361186087132, ...</td>\n",
       "      <td>0.602504</td>\n",
       "    </tr>\n",
       "    <tr>\n",
       "      <th>22</th>\n",
       "      <td>6049188771484</td>\n",
       "      <td>Acceso preferente a clientes de alto valor</td>\n",
       "      <td>[-0.06495802849531174, 0.0005379398935474455, ...</td>\n",
       "      <td>0.601404</td>\n",
       "    </tr>\n",
       "    <tr>\n",
       "      <th>170</th>\n",
       "      <td>6024083408028</td>\n",
       "      <td>Última oportunidad para recuperar carritos</td>\n",
       "      <td>[-0.019485460594296455, -0.0008154058596119285...</td>\n",
       "      <td>0.576391</td>\n",
       "    </tr>\n",
       "    <tr>\n",
       "      <th>0</th>\n",
       "      <td>8764508351644</td>\n",
       "      <td>Workflows Hot Sale 2023</td>\n",
       "      <td>[-0.052947767078876495, -0.011344102211296558,...</td>\n",
       "      <td>0.575200</td>\n",
       "    </tr>\n",
       "    <tr>\n",
       "      <th>154</th>\n",
       "      <td>4406098978194</td>\n",
       "      <td>Up selling</td>\n",
       "      <td>[-0.03890165314078331, -0.03597082197666168, -...</td>\n",
       "      <td>0.552800</td>\n",
       "    </tr>\n",
       "    <tr>\n",
       "      <th>190</th>\n",
       "      <td>6017479478300</td>\n",
       "      <td>Remarketing según RFM</td>\n",
       "      <td>[-0.029272165149450302, -0.009745901450514793,...</td>\n",
       "      <td>0.539744</td>\n",
       "    </tr>\n",
       "    <tr>\n",
       "      <th>151</th>\n",
       "      <td>6321585214226</td>\n",
       "      <td>Reactivación de compradores estacionales</td>\n",
       "      <td>[-0.022547071799635887, 0.013216782361268997, ...</td>\n",
       "      <td>0.530191</td>\n",
       "    </tr>\n",
       "    <tr>\n",
       "      <th>103</th>\n",
       "      <td>4407779448338</td>\n",
       "      <td>Recomendador de best sellers en ficha de producto</td>\n",
       "      <td>[-0.06646508723497391, -0.0016724533634260297,...</td>\n",
       "      <td>0.516854</td>\n",
       "    </tr>\n",
       "    <tr>\n",
       "      <th>294</th>\n",
       "      <td>4410740280594</td>\n",
       "      <td>Recomendador de productos para clientes indecisos</td>\n",
       "      <td>[-0.015073684975504875, -3.570366607164033e-05...</td>\n",
       "      <td>0.514198</td>\n",
       "    </tr>\n",
       "    <tr>\n",
       "      <th>188</th>\n",
       "      <td>7869328014236</td>\n",
       "      <td>[LBD] Añade a tus fichas de producto un inline...</td>\n",
       "      <td>[-0.03760378062725067, -0.0034601751249283552,...</td>\n",
       "      <td>0.513464</td>\n",
       "    </tr>\n",
       "  </tbody>\n",
       "</table>\n",
       "</div>"
      ],
      "text/plain": [
       "                id                                              title  \\\n",
       "129  6029655913116                                Cupón a compradores   \n",
       "22   6049188771484         Acceso preferente a clientes de alto valor   \n",
       "170  6024083408028         Última oportunidad para recuperar carritos   \n",
       "0    8764508351644                            Workflows Hot Sale 2023   \n",
       "154  4406098978194                                         Up selling   \n",
       "190  6017479478300                              Remarketing según RFM   \n",
       "151  6321585214226           Reactivación de compradores estacionales   \n",
       "103  4407779448338  Recomendador de best sellers en ficha de producto   \n",
       "294  4410740280594  Recomendador de productos para clientes indecisos   \n",
       "188  7869328014236  [LBD] Añade a tus fichas de producto un inline...   \n",
       "\n",
       "                                                   emb  distancia  \n",
       "129  [-0.06487193703651428, -0.010833361186087132, ...   0.602504  \n",
       "22   [-0.06495802849531174, 0.0005379398935474455, ...   0.601404  \n",
       "170  [-0.019485460594296455, -0.0008154058596119285...   0.576391  \n",
       "0    [-0.052947767078876495, -0.011344102211296558,...   0.575200  \n",
       "154  [-0.03890165314078331, -0.03597082197666168, -...   0.552800  \n",
       "190  [-0.029272165149450302, -0.009745901450514793,...   0.539744  \n",
       "151  [-0.022547071799635887, 0.013216782361268997, ...   0.530191  \n",
       "103  [-0.06646508723497391, -0.0016724533634260297,...   0.516854  \n",
       "294  [-0.015073684975504875, -3.570366607164033e-05...   0.514198  \n",
       "188  [-0.03760378062725067, -0.0034601751249283552,...   0.513464  "
      ]
     },
     "execution_count": 37,
     "metadata": {},
     "output_type": "execute_result"
    }
   ],
   "source": [
    "calculaDistancia('Cómo fidelizar a tus compradores de Hot Sale',10)"
   ]
  },
  {
   "cell_type": "markdown",
   "metadata": {},
   "source": [
    "<h3> Preprocesamiento de texto </h3>"
   ]
  },
  {
   "cell_type": "code",
   "execution_count": 6,
   "metadata": {},
   "outputs": [],
   "source": [
    "def elimina_puntuacion(cadena):\n",
    "    return \" \".join(\"\".join([\"\" if p in string.punctuation else p for p in cadena]).split())\n",
    "\n",
    "def elimina_stopwords(cadena):\n",
    "    lista_stop = stopwords.words('spanish')\n",
    "    return ' '.join([word for word in cadena.split() if word not in lista_stop])\n",
    "\n",
    "def elimina_urls(cadena):\n",
    "    return re.compile(r'https?://\\S+|www\\.\\S+').sub('',cadena)\n",
    "\n",
    "def elimina_correos(cadena):\n",
    "    return re.compile(r'\\b[A-Za-z0-9._%+-]+@[A-Za-z0-9.-]+\\.[A-Z|a-z]{2,}\\b').sub('',cadena)\n",
    "\n",
    "def elimina_imagenes(cadena):\n",
    "    return re.compile(r'\\b[A-Za-z0-9]+\\.+png\\b').sub('',cadena)\n",
    "\n",
    "def preprocesador(cadena):\n",
    "    return elimina_stopwords(elimina_puntuacion(elimina_imagenes(elimina_urls(elimina_correos(cadena)))))\n"
   ]
  },
  {
   "cell_type": "code",
   "execution_count": 33,
   "metadata": {},
   "outputs": [],
   "source": [
    "for a in articles:\n",
    "    a['body'] = preprocesador(a['body'])"
   ]
  },
  {
   "cell_type": "code",
   "execution_count": 37,
   "metadata": {},
   "outputs": [
    {
     "name": "stderr",
     "output_type": "stream",
     "text": [
      "100%|██████████| 310/310 [29:22<00:00,  5.69s/it]  \n"
     ]
    }
   ],
   "source": [
    "valid_articles_p = []\n",
    "\n",
    "for article in tqdm(articles):\n",
    "\n",
    "    tokens = len(tok(article['body']))\n",
    "\n",
    "    if tokens <= 8192:\n",
    "        article['emb_body'] = model.encode(article['body'])['dense_vecs']\n",
    "        valid_articles_p.append(article)\n",
    "    else:\n",
    "        print(f\"El articulo {article['id']} supera el numero máximo de tokens permitidos. Tiene {tokens} tokens.\")"
   ]
  },
  {
   "cell_type": "code",
   "execution_count": null,
   "metadata": {},
   "outputs": [],
   "source": [
    "for a in valid_articles_p:\n",
    "    a['emb_body'] = a['emb_body'].tolist()"
   ]
  },
  {
   "cell_type": "code",
   "execution_count": 40,
   "metadata": {},
   "outputs": [],
   "source": [
    "with open('./DATA/articles_emb_prepro_bgem3.json','w') as f:\n",
    "    f.write(json.dumps(valid_articles_p, indent = 4))"
   ]
  },
  {
   "cell_type": "code",
   "execution_count": 7,
   "metadata": {},
   "outputs": [],
   "source": [
    "with open('./DATA/articles_emb_prepro_bgem3.json', 'r') as f:\n",
    "    valid_articles_p = json.load(f)"
   ]
  },
  {
   "cell_type": "code",
   "execution_count": 8,
   "metadata": {},
   "outputs": [],
   "source": [
    "def calculaDistancia_p(pregunta, limit):\n",
    "    df = pd.DataFrame(columns = ['id','title', 'emb'])\n",
    "    print(pregunta)\n",
    "    for a in valid_articles_p:\n",
    "        dic = {}\n",
    "        dic['id'] = [a['id']]\n",
    "        dic['title'] = [a['title']]\n",
    "        dic['emb'] = [a['emb_body']]\n",
    "        #df = df.append(dic, ignore_index = True)\n",
    "        df = pd.concat([df, pd.DataFrame(dic, index=[0])], ignore_index=True)\n",
    "\n",
    "    #convertimos la pregunta a embedding:\n",
    "    emb_preg = model.encode(pregunta)['dense_vecs'] \n",
    "    df['distancia'] = df['emb'].apply(lambda x: np.array(x) @ emb_preg)\n",
    "    df = df.sort_values('distancia', ascending = False)\n",
    "    return df.head(limit)"
   ]
  },
  {
   "cell_type": "code",
   "execution_count": 35,
   "metadata": {},
   "outputs": [
    {
     "name": "stdout",
     "output_type": "stream",
     "text": [
      "Cómo fidelizar a tus compradores de Hot Sale\n"
     ]
    },
    {
     "data": {
      "text/html": [
       "<div>\n",
       "<style scoped>\n",
       "    .dataframe tbody tr th:only-of-type {\n",
       "        vertical-align: middle;\n",
       "    }\n",
       "\n",
       "    .dataframe tbody tr th {\n",
       "        vertical-align: top;\n",
       "    }\n",
       "\n",
       "    .dataframe thead th {\n",
       "        text-align: right;\n",
       "    }\n",
       "</style>\n",
       "<table border=\"1\" class=\"dataframe\">\n",
       "  <thead>\n",
       "    <tr style=\"text-align: right;\">\n",
       "      <th></th>\n",
       "      <th>id</th>\n",
       "      <th>title</th>\n",
       "      <th>emb</th>\n",
       "      <th>distancia</th>\n",
       "    </tr>\n",
       "  </thead>\n",
       "  <tbody>\n",
       "    <tr>\n",
       "      <th>22</th>\n",
       "      <td>6049188771484</td>\n",
       "      <td>Acceso preferente a clientes de alto valor</td>\n",
       "      <td>[-0.0389719232916832, -0.02095450833439827, -0...</td>\n",
       "      <td>0.628544</td>\n",
       "    </tr>\n",
       "    <tr>\n",
       "      <th>192</th>\n",
       "      <td>6017479478300</td>\n",
       "      <td>Remarketing según RFM</td>\n",
       "      <td>[-0.04319767281413078, -0.022214515134692192, ...</td>\n",
       "      <td>0.574524</td>\n",
       "    </tr>\n",
       "    <tr>\n",
       "      <th>130</th>\n",
       "      <td>6029655913116</td>\n",
       "      <td>Cupón a compradores</td>\n",
       "      <td>[-0.05453833192586899, -0.03135461360216141, -...</td>\n",
       "      <td>0.572055</td>\n",
       "    </tr>\n",
       "    <tr>\n",
       "      <th>0</th>\n",
       "      <td>8764508351644</td>\n",
       "      <td>Workflows Hot Sale 2023</td>\n",
       "      <td>[-0.04387192055583, -0.02086762525141239, -0.0...</td>\n",
       "      <td>0.560615</td>\n",
       "    </tr>\n",
       "    <tr>\n",
       "      <th>172</th>\n",
       "      <td>6024083408028</td>\n",
       "      <td>Última oportunidad para recuperar carritos</td>\n",
       "      <td>[-0.006840522401034832, -0.030226707458496094,...</td>\n",
       "      <td>0.549168</td>\n",
       "    </tr>\n",
       "    <tr>\n",
       "      <th>155</th>\n",
       "      <td>4406098978194</td>\n",
       "      <td>Up selling</td>\n",
       "      <td>[-0.028238147497177124, -0.06096935644745827, ...</td>\n",
       "      <td>0.533497</td>\n",
       "    </tr>\n",
       "    <tr>\n",
       "      <th>7</th>\n",
       "      <td>7116448367260</td>\n",
       "      <td>Lead Nurturing Postventa</td>\n",
       "      <td>[-0.10121337324380875, -0.042496293783187866, ...</td>\n",
       "      <td>0.521280</td>\n",
       "    </tr>\n",
       "    <tr>\n",
       "      <th>152</th>\n",
       "      <td>6321585214226</td>\n",
       "      <td>Reactivación de compradores estacionales</td>\n",
       "      <td>[-0.003967236261814833, -0.013972432352602482,...</td>\n",
       "      <td>0.511771</td>\n",
       "    </tr>\n",
       "    <tr>\n",
       "      <th>8</th>\n",
       "      <td>7087098296604</td>\n",
       "      <td>Lead Nurturing Preventa</td>\n",
       "      <td>[-0.09788084775209427, -0.03071371279656887, -...</td>\n",
       "      <td>0.500910</td>\n",
       "    </tr>\n",
       "    <tr>\n",
       "      <th>174</th>\n",
       "      <td>6849722079122</td>\n",
       "      <td>Última compra hace 30d</td>\n",
       "      <td>[-0.03889849781990051, -0.042348314076662064, ...</td>\n",
       "      <td>0.494608</td>\n",
       "    </tr>\n",
       "  </tbody>\n",
       "</table>\n",
       "</div>"
      ],
      "text/plain": [
       "                id                                       title  \\\n",
       "22   6049188771484  Acceso preferente a clientes de alto valor   \n",
       "192  6017479478300                       Remarketing según RFM   \n",
       "130  6029655913116                         Cupón a compradores   \n",
       "0    8764508351644                     Workflows Hot Sale 2023   \n",
       "172  6024083408028  Última oportunidad para recuperar carritos   \n",
       "155  4406098978194                                  Up selling   \n",
       "7    7116448367260                    Lead Nurturing Postventa   \n",
       "152  6321585214226    Reactivación de compradores estacionales   \n",
       "8    7087098296604                     Lead Nurturing Preventa   \n",
       "174  6849722079122                      Última compra hace 30d   \n",
       "\n",
       "                                                   emb  distancia  \n",
       "22   [-0.0389719232916832, -0.02095450833439827, -0...   0.628544  \n",
       "192  [-0.04319767281413078, -0.022214515134692192, ...   0.574524  \n",
       "130  [-0.05453833192586899, -0.03135461360216141, -...   0.572055  \n",
       "0    [-0.04387192055583, -0.02086762525141239, -0.0...   0.560615  \n",
       "172  [-0.006840522401034832, -0.030226707458496094,...   0.549168  \n",
       "155  [-0.028238147497177124, -0.06096935644745827, ...   0.533497  \n",
       "7    [-0.10121337324380875, -0.042496293783187866, ...   0.521280  \n",
       "152  [-0.003967236261814833, -0.013972432352602482,...   0.511771  \n",
       "8    [-0.09788084775209427, -0.03071371279656887, -...   0.500910  \n",
       "174  [-0.03889849781990051, -0.042348314076662064, ...   0.494608  "
      ]
     },
     "execution_count": 35,
     "metadata": {},
     "output_type": "execute_result"
    }
   ],
   "source": [
    "calculaDistancia_p('Cómo fidelizar a tus compradores de Hot Sale',10)"
   ]
  },
  {
   "cell_type": "markdown",
   "metadata": {},
   "source": [
    "<h2> Evaluación</h2>"
   ]
  },
  {
   "cell_type": "code",
   "execution_count": 61,
   "metadata": {},
   "outputs": [
    {
     "name": "stdout",
     "output_type": "stream",
     "text": [
      "Id: 360015286579 title: Historial de cambios\n",
      "Id: 7740012887324 title: [LBD] Crea tu funnel de carrito abandonado\n",
      "Id: 7873107334812 title: [LBD] Crea una campaña de recomendaciones personalizadas en base al valor RFM del usuario \n"
     ]
    }
   ],
   "source": [
    "art_deletes = [360015286579,7740012887324,7873107334812]\n",
    "for a in valid_articles_p:\n",
    "    if a['id'] in art_deletes:\n",
    "        print(f\"Id: {a['id']} title: {a['title']}\")"
   ]
  },
  {
   "cell_type": "markdown",
   "metadata": {},
   "source": [
    "<h3> Representación gráfica </h3>"
   ]
  },
  {
   "cell_type": "code",
   "execution_count": 30,
   "metadata": {},
   "outputs": [
    {
     "name": "stdout",
     "output_type": "stream",
     "text": [
      "Cómo fidelizar a tus compradores de Hot Sale\n",
      "Cómo fidelizar a tus compradores de Hot Sale\n"
     ]
    },
    {
     "data": {
      "text/html": [
       "<div>\n",
       "<style scoped>\n",
       "    .dataframe tbody tr th:only-of-type {\n",
       "        vertical-align: middle;\n",
       "    }\n",
       "\n",
       "    .dataframe tbody tr th {\n",
       "        vertical-align: top;\n",
       "    }\n",
       "\n",
       "    .dataframe thead th {\n",
       "        text-align: right;\n",
       "    }\n",
       "</style>\n",
       "<table border=\"1\" class=\"dataframe\">\n",
       "  <thead>\n",
       "    <tr style=\"text-align: right;\">\n",
       "      <th></th>\n",
       "      <th>id</th>\n",
       "      <th>title</th>\n",
       "      <th>emb</th>\n",
       "      <th>distancia</th>\n",
       "      <th>Color</th>\n",
       "      <th>emb_dim2</th>\n",
       "      <th>emb_dim2_x</th>\n",
       "      <th>emb_dim2_y</th>\n",
       "    </tr>\n",
       "  </thead>\n",
       "  <tbody>\n",
       "    <tr>\n",
       "      <th>0</th>\n",
       "      <td>0</td>\n",
       "      <td>Cómo fidelizar a tus compradores de Hot Sale</td>\n",
       "      <td>[-0.061005428433418274, -0.04074331372976303, ...</td>\n",
       "      <td>1.000000</td>\n",
       "      <td>black</td>\n",
       "      <td>[-18.814311981201172, -16.702669143676758]</td>\n",
       "      <td>-18.814312</td>\n",
       "      <td>-16.702669</td>\n",
       "    </tr>\n",
       "    <tr>\n",
       "      <th>1</th>\n",
       "      <td>6029655913116</td>\n",
       "      <td>Cupón a compradores</td>\n",
       "      <td>[-0.06487193703651428, -0.010833361186087132, ...</td>\n",
       "      <td>0.602504</td>\n",
       "      <td>red</td>\n",
       "      <td>[-26.083066940307617, -3.1943037509918213]</td>\n",
       "      <td>-26.083067</td>\n",
       "      <td>-3.194304</td>\n",
       "    </tr>\n",
       "    <tr>\n",
       "      <th>2</th>\n",
       "      <td>6049188771484</td>\n",
       "      <td>Acceso preferente a clientes de alto valor</td>\n",
       "      <td>[-0.06495802849531174, 0.0005379398935474455, ...</td>\n",
       "      <td>0.601404</td>\n",
       "      <td>red</td>\n",
       "      <td>[-19.03435516357422, -14.837255477905273]</td>\n",
       "      <td>-19.034355</td>\n",
       "      <td>-14.837255</td>\n",
       "    </tr>\n",
       "    <tr>\n",
       "      <th>3</th>\n",
       "      <td>6024083408028</td>\n",
       "      <td>Última oportunidad para recuperar carritos</td>\n",
       "      <td>[-0.019485460594296455, -0.0008154058596119285...</td>\n",
       "      <td>0.576391</td>\n",
       "      <td>red</td>\n",
       "      <td>[-32.64750289916992, -20.16671371459961]</td>\n",
       "      <td>-32.647503</td>\n",
       "      <td>-20.166714</td>\n",
       "    </tr>\n",
       "    <tr>\n",
       "      <th>4</th>\n",
       "      <td>8764508351644</td>\n",
       "      <td>Workflows Hot Sale 2023</td>\n",
       "      <td>[-0.052947767078876495, -0.011344102211296558,...</td>\n",
       "      <td>0.575200</td>\n",
       "      <td>red</td>\n",
       "      <td>[-19.03567886352539, -19.623891830444336]</td>\n",
       "      <td>-19.035679</td>\n",
       "      <td>-19.623892</td>\n",
       "    </tr>\n",
       "  </tbody>\n",
       "</table>\n",
       "</div>"
      ],
      "text/plain": [
       "              id                                         title  \\\n",
       "0              0  Cómo fidelizar a tus compradores de Hot Sale   \n",
       "1  6029655913116                           Cupón a compradores   \n",
       "2  6049188771484    Acceso preferente a clientes de alto valor   \n",
       "3  6024083408028    Última oportunidad para recuperar carritos   \n",
       "4  8764508351644                       Workflows Hot Sale 2023   \n",
       "\n",
       "                                                 emb  distancia  Color  \\\n",
       "0  [-0.061005428433418274, -0.04074331372976303, ...   1.000000  black   \n",
       "1  [-0.06487193703651428, -0.010833361186087132, ...   0.602504    red   \n",
       "2  [-0.06495802849531174, 0.0005379398935474455, ...   0.601404    red   \n",
       "3  [-0.019485460594296455, -0.0008154058596119285...   0.576391    red   \n",
       "4  [-0.052947767078876495, -0.011344102211296558,...   0.575200    red   \n",
       "\n",
       "                                     emb_dim2  emb_dim2_x  emb_dim2_y  \n",
       "0  [-18.814311981201172, -16.702669143676758]  -18.814312  -16.702669  \n",
       "1  [-26.083066940307617, -3.1943037509918213]  -26.083067   -3.194304  \n",
       "2   [-19.03435516357422, -14.837255477905273]  -19.034355  -14.837255  \n",
       "3    [-32.64750289916992, -20.16671371459961]  -32.647503  -20.166714  \n",
       "4   [-19.03567886352539, -19.623891830444336]  -19.035679  -19.623892  "
      ]
     },
     "execution_count": 30,
     "metadata": {},
     "output_type": "execute_result"
    }
   ],
   "source": [
    "#Pruebas: \n",
    "\n",
    "pregunta = 'Cómo fidelizar a tus compradores de Hot Sale'\n",
    "#pregunta = 'Necesito meter muchas url en el nodo'\n",
    "emb_pregunta = model.encode(pregunta)['dense_vecs']\n",
    "#emb_respuesta =  np.array(eval(calculaDistancia_p(pregunta,10).loc[0,'emb']))\n",
    "#Hay que coger un conjunto de embeddings (p.e 300) para reducir la dimensionalidad... \n",
    "#El formato del vector debe ser el siguiente: array con shape = (621,1024)\n",
    "#Concatenación de 3 dataframes, el primero de las preguntas, el segundo embeddings sin procesar y el ultimo con el preprocesamiento\n",
    "dic_preg =  {\n",
    "    'id':[0],\n",
    "    'title':[pregunta],\n",
    "    'emb': [model.encode(pregunta)['dense_vecs'].tolist()],\n",
    "    'distancia': [1.0] \n",
    "}\n",
    "df_pregunta = pd.DataFrame(dic_preg, index=[0])\n",
    "df_pregunta['Color'] = 'black'\n",
    "df_emb1 = calculaDistancia(pregunta,310)\n",
    "df_emb1['Color'] = 'red'\n",
    "df_emb2 = calculaDistancia_p(pregunta,310)\n",
    "df_emb2['Color'] = 'blue'\n",
    "\n",
    "df_comp = pd.concat([df_pregunta,df_emb1,df_emb2], ignore_index= True)\n",
    "df_comp\n",
    "\n",
    "#Ahora hay que hacer TSNE para reducir componentes emb_dim2 por ejemplo nueva columna\n",
    "#Se puede hacer una variable tipo emb = [[],[],...,[]] y a esa se le aplica tsne, y la que te da resultado se hace un merge en el dataframe\n",
    "\n",
    "\n",
    "\n",
    "tsne = TSNE(n_components=2, random_state=42)\n",
    "\n",
    "emb_dim2 = tsne.fit_transform(np.array(df_comp['emb'].tolist()))\n",
    "emb_dim2\n",
    "df = pd.DataFrame({'emb_dim2': emb_dim2.tolist()})\n",
    "#df\n",
    "df_comp = pd.merge(df_comp,df, left_index=True, right_index=True)\n",
    "df_comp['emb_dim2_x'] = df_comp['emb_dim2'].apply(lambda x: x[0])\n",
    "df_comp['emb_dim2_y'] = df_comp['emb_dim2'].apply(lambda x: x[1])\n",
    "df_comp.head()"
   ]
  },
  {
   "cell_type": "code",
   "execution_count": 31,
   "metadata": {},
   "outputs": [
    {
     "data": {
      "image/png": "[encoded data removed]",
      "text/plain": [
       "<Figure size 640x480 with 1 Axes>"
      ]
     },
     "metadata": {},
     "output_type": "display_data"
    }
   ],
   "source": [
    "#Representación gráfica.\n",
    "x = df_comp['emb_dim2_x']\n",
    "y = df_comp['emb_dim2_y']\n",
    "color = df_comp['Color']\n",
    "\n",
    "alphas = [0.4] * len(x)\n",
    "index_pregunta = 0\n",
    "alphas[index_pregunta] = 1\n",
    "\n",
    "plt.scatter(x,y,c = color, alpha=alphas)\n",
    "\n",
    "custom_handles = [ plt.Rectangle((0,0),1,1, color = 'Blue'),\n",
    "                   plt.Rectangle((0,0),1,1, color  = 'Red')]\n",
    "\n",
    "custom_labels = ['bge-m3','bge-m3_prep']\n",
    "\n",
    "plt.legend(custom_handles,custom_labels)\n",
    "plt.title('Comparando preprocesamiento de texto en bge-m3')\n",
    "plt.axis('off')\n",
    "plt.show()\n",
    "#hacer otro grafico donde se tomen menos puntos (solo los mas cercanos) y se vea su id\n"
   ]
  },
  {
   "cell_type": "code",
   "execution_count": 32,
   "metadata": {},
   "outputs": [
    {
     "name": "stderr",
     "output_type": "stream",
     "text": [
      "C:\\Users\\josea\\AppData\\Local\\Temp\\ipykernel_22920\\3303604271.py:2: DeprecationWarning: DataFrameGroupBy.apply operated on the grouping columns. This behavior is deprecated, and in a future version of pandas the grouping columns will be excluded from the operation. Either pass `include_groups=False` to exclude the groupings or explicitly select the grouping columns after groupby to silence this warning.\n",
      "  df_top10 = df_comp.groupby('Color').apply(lambda x: x.nlargest(n, 'distancia')).reset_index(drop=True)\n"
     ]
    },
    {
     "data": {
      "image/png": "[encoded data removed]",
      "text/plain": [
       "<Figure size 640x480 with 1 Axes>"
      ]
     },
     "metadata": {},
     "output_type": "display_data"
    }
   ],
   "source": [
    "n = 7 #Numero de elementos más cercanos\n",
    "df_top10 = df_comp.groupby('Color').apply(lambda x: x.nlargest(n, 'distancia')).reset_index(drop=True)\n",
    "x = df_top10['emb_dim2_x']\n",
    "y = df_top10['emb_dim2_y']\n",
    "color = df_top10['Color']\n",
    "\n",
    "alphas = [0.4] * len(x)\n",
    "index_pregunta = 0\n",
    "alphas[index_pregunta] = 1\n",
    "\n",
    "plt.scatter(x,y,c = color, alpha=alphas)\n",
    "\n",
    "#for i, row in df_top10.iterrows():\n",
    "#    plt.text(row['emb_dim2_x'], row['emb_dim2_y'], str(row['title']), fontsize=10, ha='center', va='bottom')\n",
    "\n",
    "plt.xlim((df_top10.loc[0,'emb_dim2_x']-20,df_top10.loc[0,'emb_dim2_x']+20))\n",
    "plt.ylim((df_top10.loc[0,'emb_dim2_y']-20,df_top10.loc[0,'emb_dim2_y']+20))\n",
    "\n",
    "custom_handles = [ plt.Rectangle((0,0),1,1, color = 'Blue'),\n",
    "                   plt.Rectangle((0,0),1,1, color  = 'Red')]\n",
    "\n",
    "custom_labels = ['bge-m3','bge-m3_prep']\n",
    "\n",
    "plt.legend(custom_handles,custom_labels)\n",
    "plt.title(f'Comparación top {n} artículos más cercanos.')\n",
    "#plt.axis('off')\n",
    "plt.show()"
   ]
  },
  {
   "cell_type": "code",
   "execution_count": 33,
   "metadata": {},
   "outputs": [
    {
     "data": {
      "text/html": [
       "<div>\n",
       "<style scoped>\n",
       "    .dataframe tbody tr th:only-of-type {\n",
       "        vertical-align: middle;\n",
       "    }\n",
       "\n",
       "    .dataframe tbody tr th {\n",
       "        vertical-align: top;\n",
       "    }\n",
       "\n",
       "    .dataframe thead th {\n",
       "        text-align: right;\n",
       "    }\n",
       "</style>\n",
       "<table border=\"1\" class=\"dataframe\">\n",
       "  <thead>\n",
       "    <tr style=\"text-align: right;\">\n",
       "      <th></th>\n",
       "      <th>id</th>\n",
       "      <th>title</th>\n",
       "      <th>emb</th>\n",
       "      <th>distancia</th>\n",
       "      <th>Color</th>\n",
       "      <th>emb_dim2</th>\n",
       "      <th>emb_dim2_x</th>\n",
       "      <th>emb_dim2_y</th>\n",
       "    </tr>\n",
       "  </thead>\n",
       "  <tbody>\n",
       "    <tr>\n",
       "      <th>0</th>\n",
       "      <td>0</td>\n",
       "      <td>Cómo fidelizar a tus compradores de Hot Sale</td>\n",
       "      <td>[-0.061005428433418274, -0.04074331372976303, ...</td>\n",
       "      <td>1.000000</td>\n",
       "      <td>black</td>\n",
       "      <td>[-18.814311981201172, -16.702669143676758]</td>\n",
       "      <td>-18.814312</td>\n",
       "      <td>-16.702669</td>\n",
       "    </tr>\n",
       "    <tr>\n",
       "      <th>1</th>\n",
       "      <td>6049188771484</td>\n",
       "      <td>Acceso preferente a clientes de alto valor</td>\n",
       "      <td>[-0.0389719232916832, -0.02095450833439827, -0...</td>\n",
       "      <td>0.628544</td>\n",
       "      <td>blue</td>\n",
       "      <td>[-19.05695343017578, -15.078132629394531]</td>\n",
       "      <td>-19.056953</td>\n",
       "      <td>-15.078133</td>\n",
       "    </tr>\n",
       "    <tr>\n",
       "      <th>2</th>\n",
       "      <td>6017479478300</td>\n",
       "      <td>Remarketing según RFM</td>\n",
       "      <td>[-0.04319767281413078, -0.022214515134692192, ...</td>\n",
       "      <td>0.574524</td>\n",
       "      <td>blue</td>\n",
       "      <td>[-21.03192710876465, -11.980491638183594]</td>\n",
       "      <td>-21.031927</td>\n",
       "      <td>-11.980492</td>\n",
       "    </tr>\n",
       "    <tr>\n",
       "      <th>3</th>\n",
       "      <td>6029655913116</td>\n",
       "      <td>Cupón a compradores</td>\n",
       "      <td>[-0.05453833192586899, -0.03135461360216141, -...</td>\n",
       "      <td>0.572055</td>\n",
       "      <td>blue</td>\n",
       "      <td>[-26.28464126586914, -2.9833273887634277]</td>\n",
       "      <td>-26.284641</td>\n",
       "      <td>-2.983327</td>\n",
       "    </tr>\n",
       "    <tr>\n",
       "      <th>4</th>\n",
       "      <td>8764508351644</td>\n",
       "      <td>Workflows Hot Sale 2023</td>\n",
       "      <td>[-0.04387192055583, -0.02086762525141239, -0.0...</td>\n",
       "      <td>0.560615</td>\n",
       "      <td>blue</td>\n",
       "      <td>[-18.95890998840332, -19.689701080322266]</td>\n",
       "      <td>-18.958910</td>\n",
       "      <td>-19.689701</td>\n",
       "    </tr>\n",
       "    <tr>\n",
       "      <th>5</th>\n",
       "      <td>6024083408028</td>\n",
       "      <td>Última oportunidad para recuperar carritos</td>\n",
       "      <td>[-0.006840522401034832, -0.030226707458496094,...</td>\n",
       "      <td>0.549168</td>\n",
       "      <td>blue</td>\n",
       "      <td>[-32.868988037109375, -20.094663619995117]</td>\n",
       "      <td>-32.868988</td>\n",
       "      <td>-20.094664</td>\n",
       "    </tr>\n",
       "    <tr>\n",
       "      <th>6</th>\n",
       "      <td>4406098978194</td>\n",
       "      <td>Up selling</td>\n",
       "      <td>[-0.028238147497177124, -0.06096935644745827, ...</td>\n",
       "      <td>0.533497</td>\n",
       "      <td>blue</td>\n",
       "      <td>[-7.194425106048584, -17.875408172607422]</td>\n",
       "      <td>-7.194425</td>\n",
       "      <td>-17.875408</td>\n",
       "    </tr>\n",
       "    <tr>\n",
       "      <th>7</th>\n",
       "      <td>7116448367260</td>\n",
       "      <td>Lead Nurturing Postventa</td>\n",
       "      <td>[-0.10121337324380875, -0.042496293783187866, ...</td>\n",
       "      <td>0.521280</td>\n",
       "      <td>blue</td>\n",
       "      <td>[-23.520395278930664, -15.983078002929688]</td>\n",
       "      <td>-23.520395</td>\n",
       "      <td>-15.983078</td>\n",
       "    </tr>\n",
       "    <tr>\n",
       "      <th>8</th>\n",
       "      <td>6029655913116</td>\n",
       "      <td>Cupón a compradores</td>\n",
       "      <td>[-0.06487193703651428, -0.010833361186087132, ...</td>\n",
       "      <td>0.602504</td>\n",
       "      <td>red</td>\n",
       "      <td>[-26.083066940307617, -3.1943037509918213]</td>\n",
       "      <td>-26.083067</td>\n",
       "      <td>-3.194304</td>\n",
       "    </tr>\n",
       "    <tr>\n",
       "      <th>9</th>\n",
       "      <td>6049188771484</td>\n",
       "      <td>Acceso preferente a clientes de alto valor</td>\n",
       "      <td>[-0.06495802849531174, 0.0005379398935474455, ...</td>\n",
       "      <td>0.601404</td>\n",
       "      <td>red</td>\n",
       "      <td>[-19.03435516357422, -14.837255477905273]</td>\n",
       "      <td>-19.034355</td>\n",
       "      <td>-14.837255</td>\n",
       "    </tr>\n",
       "    <tr>\n",
       "      <th>10</th>\n",
       "      <td>6024083408028</td>\n",
       "      <td>Última oportunidad para recuperar carritos</td>\n",
       "      <td>[-0.019485460594296455, -0.0008154058596119285...</td>\n",
       "      <td>0.576391</td>\n",
       "      <td>red</td>\n",
       "      <td>[-32.64750289916992, -20.16671371459961]</td>\n",
       "      <td>-32.647503</td>\n",
       "      <td>-20.166714</td>\n",
       "    </tr>\n",
       "    <tr>\n",
       "      <th>11</th>\n",
       "      <td>8764508351644</td>\n",
       "      <td>Workflows Hot Sale 2023</td>\n",
       "      <td>[-0.052947767078876495, -0.011344102211296558,...</td>\n",
       "      <td>0.575200</td>\n",
       "      <td>red</td>\n",
       "      <td>[-19.03567886352539, -19.623891830444336]</td>\n",
       "      <td>-19.035679</td>\n",
       "      <td>-19.623892</td>\n",
       "    </tr>\n",
       "    <tr>\n",
       "      <th>12</th>\n",
       "      <td>4406098978194</td>\n",
       "      <td>Up selling</td>\n",
       "      <td>[-0.03890165314078331, -0.03597082197666168, -...</td>\n",
       "      <td>0.552800</td>\n",
       "      <td>red</td>\n",
       "      <td>[-6.572160243988037, -17.83707046508789]</td>\n",
       "      <td>-6.572160</td>\n",
       "      <td>-17.837070</td>\n",
       "    </tr>\n",
       "    <tr>\n",
       "      <th>13</th>\n",
       "      <td>6017479478300</td>\n",
       "      <td>Remarketing según RFM</td>\n",
       "      <td>[-0.029272165149450302, -0.009745901450514793,...</td>\n",
       "      <td>0.539744</td>\n",
       "      <td>red</td>\n",
       "      <td>[-20.25910758972168, -11.748111724853516]</td>\n",
       "      <td>-20.259108</td>\n",
       "      <td>-11.748112</td>\n",
       "    </tr>\n",
       "    <tr>\n",
       "      <th>14</th>\n",
       "      <td>6321585214226</td>\n",
       "      <td>Reactivación de compradores estacionales</td>\n",
       "      <td>[-0.022547071799635887, 0.013216782361268997, ...</td>\n",
       "      <td>0.530191</td>\n",
       "      <td>red</td>\n",
       "      <td>[-31.126922607421875, -12.055658340454102]</td>\n",
       "      <td>-31.126923</td>\n",
       "      <td>-12.055658</td>\n",
       "    </tr>\n",
       "  </tbody>\n",
       "</table>\n",
       "</div>"
      ],
      "text/plain": [
       "               id                                         title  \\\n",
       "0               0  Cómo fidelizar a tus compradores de Hot Sale   \n",
       "1   6049188771484    Acceso preferente a clientes de alto valor   \n",
       "2   6017479478300                         Remarketing según RFM   \n",
       "3   6029655913116                           Cupón a compradores   \n",
       "4   8764508351644                       Workflows Hot Sale 2023   \n",
       "5   6024083408028    Última oportunidad para recuperar carritos   \n",
       "6   4406098978194                                    Up selling   \n",
       "7   7116448367260                      Lead Nurturing Postventa   \n",
       "8   6029655913116                           Cupón a compradores   \n",
       "9   6049188771484    Acceso preferente a clientes de alto valor   \n",
       "10  6024083408028    Última oportunidad para recuperar carritos   \n",
       "11  8764508351644                       Workflows Hot Sale 2023   \n",
       "12  4406098978194                                    Up selling   \n",
       "13  6017479478300                         Remarketing según RFM   \n",
       "14  6321585214226      Reactivación de compradores estacionales   \n",
       "\n",
       "                                                  emb  distancia  Color  \\\n",
       "0   [-0.061005428433418274, -0.04074331372976303, ...   1.000000  black   \n",
       "1   [-0.0389719232916832, -0.02095450833439827, -0...   0.628544   blue   \n",
       "2   [-0.04319767281413078, -0.022214515134692192, ...   0.574524   blue   \n",
       "3   [-0.05453833192586899, -0.03135461360216141, -...   0.572055   blue   \n",
       "4   [-0.04387192055583, -0.02086762525141239, -0.0...   0.560615   blue   \n",
       "5   [-0.006840522401034832, -0.030226707458496094,...   0.549168   blue   \n",
       "6   [-0.028238147497177124, -0.06096935644745827, ...   0.533497   blue   \n",
       "7   [-0.10121337324380875, -0.042496293783187866, ...   0.521280   blue   \n",
       "8   [-0.06487193703651428, -0.010833361186087132, ...   0.602504    red   \n",
       "9   [-0.06495802849531174, 0.0005379398935474455, ...   0.601404    red   \n",
       "10  [-0.019485460594296455, -0.0008154058596119285...   0.576391    red   \n",
       "11  [-0.052947767078876495, -0.011344102211296558,...   0.575200    red   \n",
       "12  [-0.03890165314078331, -0.03597082197666168, -...   0.552800    red   \n",
       "13  [-0.029272165149450302, -0.009745901450514793,...   0.539744    red   \n",
       "14  [-0.022547071799635887, 0.013216782361268997, ...   0.530191    red   \n",
       "\n",
       "                                      emb_dim2  emb_dim2_x  emb_dim2_y  \n",
       "0   [-18.814311981201172, -16.702669143676758]  -18.814312  -16.702669  \n",
       "1    [-19.05695343017578, -15.078132629394531]  -19.056953  -15.078133  \n",
       "2    [-21.03192710876465, -11.980491638183594]  -21.031927  -11.980492  \n",
       "3    [-26.28464126586914, -2.9833273887634277]  -26.284641   -2.983327  \n",
       "4    [-18.95890998840332, -19.689701080322266]  -18.958910  -19.689701  \n",
       "5   [-32.868988037109375, -20.094663619995117]  -32.868988  -20.094664  \n",
       "6    [-7.194425106048584, -17.875408172607422]   -7.194425  -17.875408  \n",
       "7   [-23.520395278930664, -15.983078002929688]  -23.520395  -15.983078  \n",
       "8   [-26.083066940307617, -3.1943037509918213]  -26.083067   -3.194304  \n",
       "9    [-19.03435516357422, -14.837255477905273]  -19.034355  -14.837255  \n",
       "10    [-32.64750289916992, -20.16671371459961]  -32.647503  -20.166714  \n",
       "11   [-19.03567886352539, -19.623891830444336]  -19.035679  -19.623892  \n",
       "12    [-6.572160243988037, -17.83707046508789]   -6.572160  -17.837070  \n",
       "13   [-20.25910758972168, -11.748111724853516]  -20.259108  -11.748112  \n",
       "14  [-31.126922607421875, -12.055658340454102]  -31.126923  -12.055658  "
      ]
     },
     "execution_count": 33,
     "metadata": {},
     "output_type": "execute_result"
    }
   ],
   "source": [
    "df_top10"
   ]
  },
  {
   "cell_type": "markdown",
   "metadata": {},
   "source": [
    "<h3> Comparación con modelo de <i> hiiamsid </i></h3>"
   ]
  },
  {
   "cell_type": "code",
   "execution_count": 13,
   "metadata": {},
   "outputs": [],
   "source": [
    "from sentence_transformers import SentenceTransformer\n",
    "from sklearn.preprocessing import Normalizer"
   ]
  },
  {
   "cell_type": "code",
   "execution_count": 14,
   "metadata": {},
   "outputs": [],
   "source": [
    "#Comparamos modelos emb sin hacer el preprocesamiento de texto\n",
    "with open('./DATA/articles_embeddings.json','r') as f:\n",
    "    articles_sid = json.load(f)"
   ]
  },
  {
   "cell_type": "code",
   "execution_count": 15,
   "metadata": {},
   "outputs": [],
   "source": [
    "model_sid = SentenceTransformer(\"./modelo\")\n",
    "\n",
    "normalizer = Normalizer(norm='l2')\n",
    "\n",
    "def calculaDistancia_sid(pregunta, limit):\n",
    "    df = pd.DataFrame(columns = ['id','title', 'emb'])\n",
    "    print(pregunta)\n",
    "    for a in articles_sid:\n",
    "        dic = {}\n",
    "        dic['id'] = a['id']\n",
    "        dic['title'] = a['title']\n",
    "        dic['emb'] = a['emb_body']\n",
    "        #df = df.append(dic, ignore_index = True) \n",
    "        df = pd.concat([df, pd.DataFrame(dic, index=[0])], ignore_index=True)\n",
    "\n",
    "    #convertimos la pregunta a embedding:\n",
    "    emb_preg = normalizer.transform(model_sid.encode([pregunta]))\n",
    "    df['distancia'] = df['emb'].apply(lambda x: np.array(x) @ emb_preg[0])\n",
    "    df = df.sort_values('distancia', ascending = False)\n",
    "    return df.head(limit)"
   ]
  },
  {
   "cell_type": "code",
   "execution_count": 35,
   "metadata": {},
   "outputs": [
    {
     "name": "stdout",
     "output_type": "stream",
     "text": [
      "Cómo fidelizar a tus compradores de Hot Sale\n"
     ]
    }
   ],
   "source": [
    "#Necesitamos: \n",
    "#mover los puntos de bge al sistema de referencia centrado en (0,0) hacer lo mismo con sid\n",
    "#una vez hecho eso, coger el top 5 de sid y buscarlas en bge. \n",
    "#Del mismo color se representan esas 5 preguntas pero con distinto alpha. \n",
    "#Mostrar de un color diferente todas las preguntas mas cercanas que hay con el modelo bge. \n",
    "\n",
    "#Pasamos sid al sistema de refencia 00\n",
    "pregunta = 'Cómo fidelizar a tus compradores de Hot Sale'\n",
    "#pregunta = 'Necesito meter muchas url en el nodo'\n",
    "emb_pregunta = model_sid.encode([pregunta])\n",
    "\n",
    "df_sid = calculaDistancia_sid(pregunta,310)\n",
    "\n",
    "dic_preg =  {\n",
    "    'id':[0],\n",
    "    'title':[pregunta],\n",
    "    'emb': model_sid.encode([pregunta]).tolist(),\n",
    "    'distancia': [1.0] \n",
    "}\n",
    "df_pregunta = pd.DataFrame(dic_preg, index=[0])\n",
    "df_pregunta['Color'] = 'Black'\n",
    "df_sid['Color'] = 'Red'\n",
    "df_sid = pd.concat([df_pregunta, df_sid], ignore_index=True)\n",
    "\n",
    "tsne = TSNE(n_components=2, random_state=42)\n",
    "\n",
    "emb_dim2_sid = tsne.fit_transform(np.array(df_sid['emb'].tolist()))\n",
    "df = pd.DataFrame({'emb_dim2': emb_dim2_sid.tolist()})\n",
    "\n",
    "df_sid = pd.merge(df_sid,df, left_index=True, right_index=True)\n",
    "\n",
    "df_sid['emb_dim2_x'] = df_sid['emb_dim2'].apply(lambda x: x[0])\n",
    "df_sid['emb_dim2_y'] = df_sid['emb_dim2'].apply(lambda x: x[1])\n",
    "emb_pregunta_dim2 = df_sid.loc[0,'emb_dim2']\n",
    "emb_pregunta_dim2\n",
    "df_sid['emb_dim2_x_SF'] = df_sid['emb_dim2_x'].apply(lambda x: x-emb_pregunta_dim2[0])\n",
    "df_sid['emb_dim2_y_SF'] = df_sid['emb_dim2_y'].apply(lambda x: x-emb_pregunta_dim2[1])\n",
    "#df_sid"
   ]
  },
  {
   "cell_type": "markdown",
   "metadata": {},
   "source": [
    "Representamos los 5 artículos más cercanos en el modelo Sid centrando la pregunta en el (0,0)"
   ]
  },
  {
   "cell_type": "code",
   "execution_count": 36,
   "metadata": {},
   "outputs": [
    {
     "name": "stderr",
     "output_type": "stream",
     "text": [
      "C:\\Users\\josea\\AppData\\Local\\Temp\\ipykernel_22920\\3272512844.py:2: DeprecationWarning: DataFrameGroupBy.apply operated on the grouping columns. This behavior is deprecated, and in a future version of pandas the grouping columns will be excluded from the operation. Either pass `include_groups=False` to exclude the groupings or explicitly select the grouping columns after groupby to silence this warning.\n",
      "  df_top10_sid = df_sid.groupby('Color').apply(lambda x: x.nlargest(n, 'distancia')).reset_index(drop=True)\n"
     ]
    },
    {
     "data": {
      "image/png": "[encoded data removed]",
      "text/plain": [
       "<Figure size 640x480 with 1 Axes>"
      ]
     },
     "metadata": {},
     "output_type": "display_data"
    }
   ],
   "source": [
    "n =3 #Numero de elementos más cercanos\n",
    "df_top10_sid = df_sid.groupby('Color').apply(lambda x: x.nlargest(n, 'distancia')).reset_index(drop=True)\n",
    "x = df_top10_sid['emb_dim2_x_SF']\n",
    "y = df_top10_sid['emb_dim2_y_SF']\n",
    "color = df_top10_sid['Color']\n",
    "\n",
    "#alphas = [0.4] * len(x)\n",
    "#index_pregunta = 0\n",
    "#alphas[index_pregunta] = 1\n",
    "\n",
    "plt.scatter(x,y,c = color)#, alpha=alphas)\n",
    "\n",
    "#for i, row in df_top10.iterrows():\n",
    "#    plt.text(row['emb_dim2_x'], row['emb_dim2_y'], str(row['title']), fontsize=10, ha='center', va='bottom')\n",
    "\n",
    "plt.xlim((df_top10_sid.loc[0,'emb_dim2_x_SF']-10,df_top10_sid.loc[0,'emb_dim2_x_SF']+10))\n",
    "plt.ylim((df_top10_sid.loc[0,'emb_dim2_y_SF']-10,df_top10_sid.loc[0,'emb_dim2_y_SF']+10))\n",
    "\n",
    "custom_handles = [plt.Line2D([], [], marker='o', markersize=8, color='Red', linestyle='None'),\n",
    "                  plt.Line2D([], [], marker='o', markersize=8, color='Black', linestyle='None')]\n",
    "custom_labels = ['Artículos','Pregunta']\n",
    "\n",
    "plt.legend(custom_handles,custom_labels)\n",
    "plt.title(f'Top {n} artículos más cercanos. HIIAMSID')\n",
    "#plt.axis('off')\n",
    "plt.show()"
   ]
  },
  {
   "cell_type": "code",
   "execution_count": 37,
   "metadata": {},
   "outputs": [
    {
     "name": "stderr",
     "output_type": "stream",
     "text": [
      "C:\\Users\\josea\\AppData\\Local\\Temp\\ipykernel_22920\\1080879362.py:9: DeprecationWarning: DataFrameGroupBy.apply operated on the grouping columns. This behavior is deprecated, and in a future version of pandas the grouping columns will be excluded from the operation. Either pass `include_groups=False` to exclude the groupings or explicitly select the grouping columns after groupby to silence this warning.\n",
      "  df_top10 = df_comp.groupby('Color').apply(lambda x: x.nlargest(n, 'distancia')).reset_index(drop=True)\n"
     ]
    },
    {
     "data": {
      "image/png": "[encoded data removed]",
      "text/plain": [
       "<Figure size 640x480 with 1 Axes>"
      ]
     },
     "metadata": {},
     "output_type": "display_data"
    }
   ],
   "source": [
    "#Hacemos lo mismo pero con los artículos de bge: #Podemos usar el dataframe df_Comp que es el que se ha trabajado arriba \n",
    "#solo tenemos que hacerle el cambio de sistema de referencia\n",
    "df_comp = df_comp[df_comp['Color'] != 'blue']\n",
    "emb_pregunta_dim2 = df_comp.loc[0,'emb_dim2']\n",
    "df_comp['emb_dim2_x_SF'] = df_comp['emb_dim2_x'].apply(lambda x: x-emb_pregunta_dim2[0])\n",
    "df_comp['emb_dim2_y_SF'] = df_comp['emb_dim2_y'].apply(lambda x: x-emb_pregunta_dim2[1])\n",
    "\n",
    "n =3 #Numero de elementos más cercanos\n",
    "df_top10 = df_comp.groupby('Color').apply(lambda x: x.nlargest(n, 'distancia')).reset_index(drop=True)\n",
    "x = df_top10['emb_dim2_x_SF']\n",
    "y = df_top10['emb_dim2_y_SF']\n",
    "color = df_top10['Color']\n",
    "\n",
    "#alphas = [0.4] * len(x)\n",
    "#index_pregunta = 0\n",
    "#alphas[index_pregunta] = 1\n",
    "\n",
    "plt.scatter(x,y,c = color)#, alpha=alphas)\n",
    "\n",
    "#for i, row in df_top10.iterrows():\n",
    "#    plt.text(row['emb_dim2_x'], row['emb_dim2_y'], str(row['title']), fontsize=10, ha='center', va='bottom')\n",
    "\n",
    "plt.xlim((df_top10.loc[0,'emb_dim2_x_SF']-20,df_top10.loc[0,'emb_dim2_x_SF']+20))\n",
    "plt.ylim((df_top10.loc[0,'emb_dim2_y_SF']-20,df_top10.loc[0,'emb_dim2_y_SF']+20))\n",
    "\n",
    "custom_handles = [plt.Line2D([], [], marker='o', markersize=8, color='Red', linestyle='None'),\n",
    "                  plt.Line2D([], [], marker='o', markersize=8, color='Black', linestyle='None')]\n",
    "custom_labels = ['Artículos','Pregunta']\n",
    "\n",
    "plt.legend(custom_handles,custom_labels)\n",
    "plt.title(f'Top {n} artículos más cercanos. bge-m3')\n",
    "#plt.axis('off')\n",
    "plt.show()"
   ]
  },
  {
   "cell_type": "code",
   "execution_count": null,
   "metadata": {},
   "outputs": [],
   "source": [
    "#Coger el df_bge de los 5 mejores y hacer un dataframe de iamsid que incluya esos cinco mas los más cercanos a ver cuantos hay y donde los situa\n",
    "\n",
    "df_top10['title'].tolist()\n",
    "\n",
    "d_min = df_sid[df_sid['title'].isin(df_top10['title'].tolist())]['distancia'].min()\n",
    "\n",
    "#Todos los articulos sid con mejor aproximacion que el peor de los 3 mejores de bge \n",
    "df_sid_filtrados = df_sid[df_sid['distancia']>d_min]\n",
    "\n",
    "df_sid_filtrados['Color'] = df_sid_filtrados['Color'].where(df_sid_filtrados['title'].isin(df_top10['title']), 'blue')\n",
    "\n",
    "#df_sid_filtrados"
   ]
  },
  {
   "cell_type": "code",
   "execution_count": 39,
   "metadata": {},
   "outputs": [
    {
     "data": {
      "image/png": "[encoded data removed]",
      "text/plain": [
       "<Figure size 640x480 with 1 Axes>"
      ]
     },
     "metadata": {},
     "output_type": "display_data"
    }
   ],
   "source": [
    "x = df_top10['emb_dim2_x_SF']\n",
    "y = df_top10['emb_dim2_y_SF']\n",
    "color = df_top10['Color']\n",
    "\n",
    "alphas = [0.4] * len(x)\n",
    "index_pregunta = 0\n",
    "alphas[index_pregunta] = 1\n",
    "\n",
    "plt.scatter(x,y,c = color, alpha=alphas)\n",
    "plt.scatter(df_sid_filtrados['emb_dim2_x_SF'],df_sid_filtrados['emb_dim2_y_SF'],c = df_sid_filtrados['Color'])\n",
    "#for i, row in df_top10.iterrows():\n",
    "#    plt.text(row['emb_dim2_x'], row['emb_dim2_y'], str(row['title']), fontsize=10, ha='center', va='bottom')\n",
    "\n",
    "plt.xlim((df_top10.loc[0,'emb_dim2_x_SF']-15,df_top10.loc[0,'emb_dim2_x_SF']+15))\n",
    "plt.ylim((df_top10.loc[0,'emb_dim2_y_SF']-15,df_top10.loc[0,'emb_dim2_y_SF']+15))\n",
    "\n",
    "custom_handles = [plt.Line2D([], [], marker='o', markersize=8, color='Red', linestyle='None'),\n",
    "                  plt.Line2D([], [], marker='o', markersize=8, color='Blue', linestyle='None'),\n",
    "                  plt.Line2D([], [], marker='o', markersize=8, color='Red', linestyle='None', alpha = 0.4),\n",
    "                  plt.Line2D([], [], marker='o', markersize=8, color='Black', linestyle='None')]\n",
    "custom_labels = ['Artículos sid','Artículos hiiamsid','Artículos bge-m3','Pregunta']\n",
    "\n",
    "plt.legend(custom_handles,custom_labels)\n",
    "#plt.title(f'Top {n} artículos más cercanos. bge-m3')\n",
    "plt.axis('off')\n",
    "plt.show()\n"
   ]
  },
  {
   "cell_type": "markdown",
   "metadata": {},
   "source": [
    "Este gráfico indica que un modelo es mejor que otro? En este caso concreto NO\n",
    "\n",
    "Los dos modelos actuan bien en esta pregunta. ¿Por qué?\n",
    "En rojo difuminado tenemos las 3 mejores articulos para el modelo bge\n",
    "En rojo tenemos los 3 mejores articulos para el modelo hiiamsid. Estos, se encuentran en una buena posición respecto a los modelos puntos rojos que son los articulos hiiamsid ya que son los primeros en estar más cerca de la pregunta \n",
    "\n",
    "Tendríamos más problemas si entre los circulos rojos y el punto pregunta estuvieran muchos puntos azules, que no es el caso, casualmetne en esta pregunta todo funciona perfecto, es decir, de momento, los dos modelos parecen buenos. \n",
    "\n",
    "Nota: Hacer con más preguntas a ver como actuan"
   ]
  },
  {
   "cell_type": "code",
   "execution_count": 109,
   "metadata": {},
   "outputs": [
    {
     "name": "stdout",
     "output_type": "stream",
     "text": [
      "Cómo fidelizar a tus compradores de Hot Sale\n",
      "Cómo fidelizar a tus compradores de Hot Sale\n",
      "768\n",
      "1024\n"
     ]
    },
    {
     "data": {
      "text/plain": [
       "array([ 0.00156336, -0.01800038, -0.01080883, ...,  0.        ,\n",
       "        0.        ,  0.        ])"
      ]
     },
     "execution_count": 109,
     "metadata": {},
     "output_type": "execute_result"
    }
   ],
   "source": [
    "\n",
    "##IGNORAR\n",
    "\n",
    "df_sid = calculaDistancia_sid(pregunta,310)\n",
    "df_bge = calculaDistancia(pregunta,310)\n",
    "\n",
    "print(len(df_sid.loc[0,'emb']))\n",
    "print(len(df_bge.loc[0,'emb']))\n",
    "\n",
    "#No vale, no tiene sentido este planteamiento\n",
    "df_conjunto = pd.concat([df_sid,df_bge], ignore_index= True)\n",
    "df_conjunto['emb'].tolist()\n",
    "1024\n",
    "\n",
    "df_conjunto['emb_1024'] = df_conjunto['emb'].apply(lambda x: np.pad(x, (0, 1024 - len(x)), mode='constant', constant_values=0))\n",
    "df_conjunto.loc[0,'emb_1024']\n",
    "\n",
    "#tsne = TSNE(n_components=2, random_state=42)\n",
    "\n",
    "#emb_dim2 = tsne.fit_transform(np.array(df_conjunto['emb'].tolist()))\n",
    "#emb_dim2\n",
    "\n",
    "#df = pd.DataFrame({'emb_dim2': emb_dim2.tolist()})\n",
    "#df\n",
    "#df_conjunto = pd.merge(df_conjunto,df, left_index=True, right_index=True)\n",
    "#df_conjunto['emb_dim2_x'] = df_conjunto['emb_dim2'].apply(lambda x: x[0])\n",
    "#df_conjunto['emb_dim2_y'] = df_conjunto['emb_dim2'].apply(lambda x: x[1])\n",
    "#df_conjunto.head()\n"
   ]
  },
  {
   "cell_type": "code",
   "execution_count": 4,
   "metadata": {},
   "outputs": [
    {
     "data": {
      "text/plain": [
       "2303"
      ]
     },
     "execution_count": 4,
     "metadata": {},
     "output_type": "execute_result"
    }
   ],
   "source": [
    "#Coste computacional distancia coseno, distancia de manhattan y distancia euclidea \n",
    "#vectores de 768 \n",
    "\n",
    "#Distancia de manhattan: + valor abs de cada componente + 768\n",
    "#dim2 --> 2 restas y una suma\n",
    "#dim3 --> 3 restas y dos sumas \n",
    "#----\n",
    "#dim n -> n restas y n-1 sumas \n",
    "\n",
    "#Total: 768 restas + 767 sumas 1535 operaciones sin contar el abs --------- contando abs : 2303\n",
    "\n",
    "#Distancia del coseno: \n",
    "#suponemos que los vectores estan normalizados:\n",
    "#dim2 --> dos multiplicaciones y una suma  \n",
    "#dim3 --> tres multiplicaciones y dos sumas\n",
    "#----\n",
    "#dim n -> n multiplicaciones y n-1 sumas\n",
    "\n",
    "#Total: 768 multiplicaciones y 767 sumas 1535 operaciones \n",
    "\n",
    "#Distancia euclidea: \n",
    "\n",
    "#dim2 --> dos restas dos cuadrados una suma y una raiz\n",
    "#dim3 --> tres restas tres cuadrados dos sumas y una raiz\n",
    "#----\n",
    "#dim n -> n restas n cuadrados n-1 sumas y una raiz\n",
    "\n",
    "#Total: 768 restas 768 cuadrados 767 sumas y una raiz 2304\n"
   ]
  }
 ],
 "metadata": {
  "kernelspec": {
   "display_name": "envPRUEBA",
   "language": "python",
   "name": "python3"
  },
  "language_info": {
   "codemirror_mode": {
    "name": "ipython",
    "version": 3
   },
   "file_extension": ".py",
   "mimetype": "text/x-python",
   "name": "python",
   "nbconvert_exporter": "python",
   "pygments_lexer": "ipython3",
   "version": "3.10.12"
  }
 },
 "nbformat": 4,
 "nbformat_minor": 2
}
