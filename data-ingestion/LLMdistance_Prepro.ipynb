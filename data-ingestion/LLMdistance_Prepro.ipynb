{
 "cells": [
  {
   "cell_type": "code",
   "execution_count": 12,
   "metadata": {},
   "outputs": [
    {
     "name": "stderr",
     "output_type": "stream",
     "text": [
      "[nltk_data] Downloading package stopwords to\n",
      "[nltk_data]     C:\\Users\\josea\\AppData\\Roaming\\nltk_data...\n",
      "[nltk_data]   Package stopwords is already up-to-date!\n"
     ]
    }
   ],
   "source": [
    "from sentence_transformers import SentenceTransformer\n",
    "import os\n",
    "import numpy as np\n",
    "from sklearn.preprocessing import Normalizer\n",
    "import json\n",
    "import pandas as pd\n",
    "import string\n",
    "import nltk\n",
    "nltk.download('stopwords')\n",
    "from nltk.corpus import stopwords\n",
    "import re\n",
    "from tqdm import tqdm"
   ]
  },
  {
   "cell_type": "code",
   "execution_count": 2,
   "metadata": {},
   "outputs": [],
   "source": [
    "#Cargamos el modelo de hiiamsid; \n",
    "model = SentenceTransformer(\"./modelo\")"
   ]
  },
  {
   "cell_type": "code",
   "execution_count": 15,
   "metadata": {},
   "outputs": [],
   "source": [
    "#Cargamos los archivos con los datos\n",
    "with open(\"./DATA/tickets.json\", 'r') as ticket_file:\n",
    "    tickets = json.load(ticket_file)\n",
    "\n",
    "with open(\"./DATA/articles.json\", 'r') as article_file:\n",
    "    articles = json.load(article_file)\n"
   ]
  },
  {
   "cell_type": "markdown",
   "metadata": {},
   "source": [
    " <center><h3>Preprocesamiento de texto</h3></center>\n",
    "\n",
    "(1) <s> Eliminación de signos de puntuación </s>\n",
    "\n",
    "(2) <s> Eliminación de stopwords </s> \n",
    "\n",
    "(3) <s> Eliminación URLs </s>\n",
    "\n",
    "(4) <s> Eliminación correos </s>\n",
    "\n",
    "(5) <s> Eliminación archivos .png </s>\n",
    "\n",
    "(6)  Corrección ortográfica "
   ]
  },
  {
   "cell_type": "code",
   "execution_count": 14,
   "metadata": {},
   "outputs": [],
   "source": [
    "def elimina_puntuacion(cadena):\n",
    "    return \" \".join(\"\".join([\"\" if p in string.punctuation else p for p in cadena]).split())\n",
    "\n",
    "def elimina_stopwords(cadena):\n",
    "    lista_stop = stopwords.words('spanish')\n",
    "    return ' '.join([word for word in cadena.split() if word not in lista_stop])\n",
    "\n",
    "def elimina_urls(cadena):\n",
    "    return re.compile(r'https?://\\S+|www\\.\\S+').sub('',cadena)\n",
    "\n",
    "def elimina_correos(cadena):\n",
    "    return re.compile(r'\\b[A-Za-z0-9._%+-]+@[A-Za-z0-9.-]+\\.[A-Z|a-z]{2,}\\b').sub('',cadena)\n",
    "\n",
    "def elimina_imagenes(cadena):\n",
    "    return re.compile(r'\\b[A-Za-z0-9]+\\.+png\\b').sub('',cadena)\n"
   ]
  },
  {
   "cell_type": "code",
   "execution_count": 17,
   "metadata": {},
   "outputs": [
    {
     "name": "stderr",
     "output_type": "stream",
     "text": [
      "100%|██████████| 310/310 [00:00<00:00, 723.27it/s]\n"
     ]
    }
   ],
   "source": [
    "#El orden que hay que seguir para aplicarselo al texto es: \n",
    "# 1º ---> eliminar correos / urls / eliminar imagenes >> eliminar puntuacion >> elimina stopword\n",
    "for a in tqdm(articles):\n",
    "    a['body'] = elimina_stopwords(elimina_puntuacion(elimina_imagenes(elimina_urls(elimina_correos(a['body'])))))"
   ]
  },
  {
   "cell_type": "code",
   "execution_count": 19,
   "metadata": {},
   "outputs": [],
   "source": [
    "#Calculamos los embeddings y comparamos, para la prueba solo los articulos\n",
    "articles_emb = []\n",
    "normalizer = Normalizer(norm='l2')\n",
    "\n",
    "for article in articles:\n",
    "    article['emb_body'] = normalizer.transform(model.encode([article['body']])).tolist()\n",
    "    articles_emb.append(article)"
   ]
  },
  {
   "cell_type": "code",
   "execution_count": 20,
   "metadata": {},
   "outputs": [],
   "source": [
    "def calculaDistancia(pregunta, limit):\n",
    "    df = pd.DataFrame(columns = ['id','title', 'emb'])\n",
    "    print(pregunta)\n",
    "    for a in articles_emb:\n",
    "        dic = {}\n",
    "        dic['id'] = a['id']\n",
    "        dic['title'] = a['title']\n",
    "        dic['emb'] = a['emb_body']\n",
    "        #df = df.append(dic, ignore_index = True)\n",
    "        df = pd.concat([df, pd.DataFrame(dic, index=[0])], ignore_index=True)\n",
    "\n",
    "    #convertimos la pregunta a embedding:\n",
    "    emb_preg = normalizer.transform(model.encode([pregunta]))\n",
    "    df['distancia'] = df['emb'].apply(lambda x: np.array(x) @ emb_preg[0])\n",
    "    df = df.sort_values('distancia', ascending = False)\n",
    "    return df.head(limit)\n",
    "    "
   ]
  },
  {
   "cell_type": "code",
   "execution_count": 21,
   "metadata": {},
   "outputs": [
    {
     "name": "stdout",
     "output_type": "stream",
     "text": [
      "Cómo fidelizar a tus compradores de Hot Sale\n"
     ]
    },
    {
     "data": {
      "text/html": [
       "<div>\n",
       "<style scoped>\n",
       "    .dataframe tbody tr th:only-of-type {\n",
       "        vertical-align: middle;\n",
       "    }\n",
       "\n",
       "    .dataframe tbody tr th {\n",
       "        vertical-align: top;\n",
       "    }\n",
       "\n",
       "    .dataframe thead th {\n",
       "        text-align: right;\n",
       "    }\n",
       "</style>\n",
       "<table border=\"1\" class=\"dataframe\">\n",
       "  <thead>\n",
       "    <tr style=\"text-align: right;\">\n",
       "      <th></th>\n",
       "      <th>id</th>\n",
       "      <th>title</th>\n",
       "      <th>emb</th>\n",
       "      <th>distancia</th>\n",
       "    </tr>\n",
       "  </thead>\n",
       "  <tbody>\n",
       "    <tr>\n",
       "      <th>0</th>\n",
       "      <td>8764508351644</td>\n",
       "      <td>Workflows Hot Sale 2023</td>\n",
       "      <td>[0.03203045576810837, -0.04343095421791077, 0....</td>\n",
       "      <td>0.468583</td>\n",
       "    </tr>\n",
       "    <tr>\n",
       "      <th>73</th>\n",
       "      <td>6508957523730</td>\n",
       "      <td>Pack newsletters</td>\n",
       "      <td>[0.027412476018071175, -0.020317386835813522, ...</td>\n",
       "      <td>0.422809</td>\n",
       "    </tr>\n",
       "    <tr>\n",
       "      <th>5</th>\n",
       "      <td>7752237540508</td>\n",
       "      <td>[LBD] Curso: arranca tus primeras estrategias ...</td>\n",
       "      <td>[-0.001850444939918816, -0.02464452013373375, ...</td>\n",
       "      <td>0.404683</td>\n",
       "    </tr>\n",
       "    <tr>\n",
       "      <th>306</th>\n",
       "      <td>360014428839</td>\n",
       "      <td>Lead scoring: asignar puntos a un contacto</td>\n",
       "      <td>[0.03397448733448982, 0.01221911795437336, 0.0...</td>\n",
       "      <td>0.394848</td>\n",
       "    </tr>\n",
       "    <tr>\n",
       "      <th>222</th>\n",
       "      <td>7869332050588</td>\n",
       "      <td>[LBD] Reactiva a tus compradores dormidos</td>\n",
       "      <td>[0.019675597548484802, -0.022051917389035225, ...</td>\n",
       "      <td>0.381216</td>\n",
       "    </tr>\n",
       "    <tr>\n",
       "      <th>8</th>\n",
       "      <td>7087098296604</td>\n",
       "      <td>Lead Nurturing Preventa</td>\n",
       "      <td>[0.014185058884322643, -0.014065049588680267, ...</td>\n",
       "      <td>0.377712</td>\n",
       "    </tr>\n",
       "    <tr>\n",
       "      <th>28</th>\n",
       "      <td>6054245431954</td>\n",
       "      <td>Nuevos workflows del mes</td>\n",
       "      <td>[0.04314965754747391, -0.0017913426272571087, ...</td>\n",
       "      <td>0.376813</td>\n",
       "    </tr>\n",
       "    <tr>\n",
       "      <th>7</th>\n",
       "      <td>7116448367260</td>\n",
       "      <td>Lead Nurturing Postventa</td>\n",
       "      <td>[0.013755285181105137, -0.027920132502913475, ...</td>\n",
       "      <td>0.373746</td>\n",
       "    </tr>\n",
       "    <tr>\n",
       "      <th>26</th>\n",
       "      <td>6454162374034</td>\n",
       "      <td>Campaña de productos recomendados según RFM</td>\n",
       "      <td>[0.019641388207674026, -0.023620642721652985, ...</td>\n",
       "      <td>0.356227</td>\n",
       "    </tr>\n",
       "    <tr>\n",
       "      <th>138</th>\n",
       "      <td>360018401679</td>\n",
       "      <td>Integrar formulario de suscripción a newslette...</td>\n",
       "      <td>[-0.00726541830226779, 0.036456137895584106, 0...</td>\n",
       "      <td>0.347204</td>\n",
       "    </tr>\n",
       "  </tbody>\n",
       "</table>\n",
       "</div>"
      ],
      "text/plain": [
       "                id                                              title  \\\n",
       "0    8764508351644                            Workflows Hot Sale 2023   \n",
       "73   6508957523730                                   Pack newsletters   \n",
       "5    7752237540508  [LBD] Curso: arranca tus primeras estrategias ...   \n",
       "306   360014428839         Lead scoring: asignar puntos a un contacto   \n",
       "222  7869332050588          [LBD] Reactiva a tus compradores dormidos   \n",
       "8    7087098296604                            Lead Nurturing Preventa   \n",
       "28   6054245431954                           Nuevos workflows del mes   \n",
       "7    7116448367260                           Lead Nurturing Postventa   \n",
       "26   6454162374034        Campaña de productos recomendados según RFM   \n",
       "138   360018401679  Integrar formulario de suscripción a newslette...   \n",
       "\n",
       "                                                   emb  distancia  \n",
       "0    [0.03203045576810837, -0.04343095421791077, 0....   0.468583  \n",
       "73   [0.027412476018071175, -0.020317386835813522, ...   0.422809  \n",
       "5    [-0.001850444939918816, -0.02464452013373375, ...   0.404683  \n",
       "306  [0.03397448733448982, 0.01221911795437336, 0.0...   0.394848  \n",
       "222  [0.019675597548484802, -0.022051917389035225, ...   0.381216  \n",
       "8    [0.014185058884322643, -0.014065049588680267, ...   0.377712  \n",
       "28   [0.04314965754747391, -0.0017913426272571087, ...   0.376813  \n",
       "7    [0.013755285181105137, -0.027920132502913475, ...   0.373746  \n",
       "26   [0.019641388207674026, -0.023620642721652985, ...   0.356227  \n",
       "138  [-0.00726541830226779, 0.036456137895584106, 0...   0.347204  "
      ]
     },
     "execution_count": 21,
     "metadata": {},
     "output_type": "execute_result"
    }
   ],
   "source": [
    "calculaDistancia('Cómo fidelizar a tus compradores de Hot Sale', 10)"
   ]
  }
 ],
 "metadata": {
  "kernelspec": {
   "display_name": "Python 3",
   "language": "python",
   "name": "python3"
  },
  "language_info": {
   "codemirror_mode": {
    "name": "ipython",
    "version": 3
   },
   "file_extension": ".py",
   "mimetype": "text/x-python",
   "name": "python",
   "nbconvert_exporter": "python",
   "pygments_lexer": "ipython3",
   "version": "3.11.8"
  }
 },
 "nbformat": 4,
 "nbformat_minor": 2
}
