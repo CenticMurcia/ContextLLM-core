{
 "cells": [
  {
   "cell_type": "code",
   "execution_count": 1,
   "metadata": {},
   "outputs": [],
   "source": [
    "from unstructured.partition.xlsx import partition_xlsx"
   ]
  },
  {
   "cell_type": "code",
   "execution_count": 9,
   "metadata": {},
   "outputs": [],
   "source": [
    "elements = partition_xlsx(filename=\"prueba-2kdesa.xlsx\")"
   ]
  },
  {
   "cell_type": "code",
   "execution_count": 10,
   "metadata": {},
   "outputs": [
    {
     "data": {
      "text/plain": [
       "[<unstructured.documents.elements.Table at 0x7492237c6a70>,\n",
       " <unstructured.documents.elements.Table at 0x7492237c5540>]"
      ]
     },
     "execution_count": 10,
     "metadata": {},
     "output_type": "execute_result"
    }
   ],
   "source": [
    "elements"
   ]
  },
  {
   "cell_type": "code",
   "execution_count": 14,
   "metadata": {},
   "outputs": [
    {
     "data": {
      "text/plain": [
       "mappingproxy({'filename': 'prueba-2kdesa.xlsx',\n",
       "              'last_modified': '2024-11-06T10:15:34',\n",
       "              'page_name': 'Hoja 1',\n",
       "              'page_number': 1,\n",
       "              'text_as_html': '<table><tr><td>tabla1</td><td>region</td><td>rep</td><td>item</td><td>units</td><td>unit cost</td><td>total</td><td/><td/><td>tabla2</td><td>region</td><td>rep</td><td>item</td><td>units</td><td>unit cost</td><td>total</td></tr><tr><td>2021-01-06 00:00:00</td><td>East</td><td>Jones</td><td>Pencil</td><td>95</td><td>1.99</td><td>189.05</td><td/><td/><td>2021-01-06 00:00:00</td><td>East</td><td>Jones</td><td>Pencil</td><td>95</td><td>1.99</td><td>189.05</td></tr><tr><td>2021-01-23 00:00:00</td><td>Central</td><td>Kivell</td><td>Binder</td><td>50</td><td>19.99</td><td>999.5</td><td/><td/><td>2021-01-23 00:00:00</td><td>Central</td><td>Kivell</td><td>Binder</td><td>50</td><td>19.99</td><td>999.5</td></tr><tr><td>2021-02-09 00:00:00</td><td>Central</td><td>Jardine</td><td>Pencil</td><td>36</td><td>4.99</td><td>179.64</td><td/><td/><td>2021-02-09 00:00:00</td><td>Central</td><td>Jardine</td><td>Pencil</td><td>36</td><td>4.99</td><td>179.64</td></tr><tr><td>2021-02-26 00:00:00</td><td>Central</td><td>Gill</td><td>Pen</td><td>27</td><td>19.99</td><td>539.73</td><td/><td/><td>2021-02-26 00:00:00</td><td>Central</td><td>Gill</td><td>Pen</td><td>27</td><td>19.99</td><td>539.73</td></tr><tr><td>2021-03-15 00:00:00</td><td>West</td><td>Sorvino</td><td>Pencil</td><td>56</td><td>2.99</td><td>167.44</td><td/><td/><td>2021-03-15 00:00:00</td><td>West</td><td>Sorvino</td><td>Pencil</td><td>56</td><td>2.99</td><td>167.44</td></tr><tr><td>2021-04-01 00:00:00</td><td>East</td><td>Jones</td><td>Binder</td><td>60</td><td>4.99</td><td>299.4</td><td/><td/><td>2021-04-01 00:00:00</td><td>East</td><td>Jones</td><td>Binder</td><td>60</td><td>4.99</td><td>299.4</td></tr><tr><td>2021-04-18 00:00:00</td><td>Central</td><td>Andrews</td><td>Pencil</td><td>75</td><td>1.99</td><td>149.25</td><td/><td/><td>2021-04-18 00:00:00</td><td>Central</td><td>Andrews</td><td>Pencil</td><td>75</td><td>1.99</td><td>149.25</td></tr><tr><td>2021-05-05 00:00:00</td><td>Central</td><td>Jardine</td><td>Pencil</td><td>90</td><td>4.99</td><td>449.1</td><td/><td/><td>2021-05-05 00:00:00</td><td>Central</td><td>Jardine</td><td>Pencil</td><td>90</td><td>4.99</td><td>449.1</td></tr><tr><td>2021-05-22 00:00:00</td><td>West</td><td>Thompson</td><td>Pencil</td><td>32</td><td>1.99</td><td>63.68</td><td/><td/><td>2021-05-22 00:00:00</td><td>West</td><td>Thompson</td><td>Pencil</td><td>32</td><td>1.99</td><td>63.68</td></tr><tr><td>2021-06-08 00:00:00</td><td>East</td><td>Jones</td><td>Binder</td><td>60</td><td>8.99</td><td>539.4</td><td/><td/><td>2021-06-08 00:00:00</td><td>East</td><td>Jones</td><td>Binder</td><td>60</td><td>8.99</td><td>539.4</td></tr><tr><td>2021-06-25 00:00:00</td><td>Central</td><td>Morgan</td><td>Pencil</td><td>90</td><td>4.99</td><td>449.1</td><td/><td/><td>2021-06-25 00:00:00</td><td>Central</td><td>Morgan</td><td>Pencil</td><td>90</td><td>4.99</td><td>449.1</td></tr><tr><td>2021-07-12 00:00:00</td><td>East</td><td>Howard</td><td>Binder</td><td>29</td><td>1.99</td><td>57.71</td><td/><td/><td>2021-07-12 00:00:00</td><td>East</td><td>Howard</td><td>Binder</td><td>29</td><td>1.99</td><td>57.71</td></tr><tr><td>2021-07-29 00:00:00</td><td>East</td><td>Parent</td><td>Binder</td><td>81</td><td>19.99</td><td>1619.19</td><td/><td/><td>2021-07-29 00:00:00</td><td>East</td><td>Parent</td><td>Binder</td><td>81</td><td>19.99</td><td>1619.19</td></tr><tr><td>2021-08-15 00:00:00</td><td>East</td><td>Jones</td><td>Pencil</td><td>35</td><td>4.99</td><td>174.65</td><td/><td/><td>2021-08-15 00:00:00</td><td>East</td><td>Jones</td><td>Pencil</td><td>35</td><td>4.99</td><td>174.65</td></tr><tr><td>2021-09-01 00:00:00</td><td>Central</td><td>Smith</td><td>Desk</td><td>2</td><td>125</td><td>250</td><td/><td/><td>2021-09-01 00:00:00</td><td>Central</td><td>Smith</td><td>Desk</td><td>2</td><td>125</td><td>250</td></tr><tr><td>2021-09-18 00:00:00</td><td>East</td><td>Jones</td><td>Pen Set</td><td>16</td><td>15.99</td><td>255.84</td><td/><td/><td>2021-09-18 00:00:00</td><td>East</td><td>Jones</td><td>Pen Set</td><td>16</td><td>15.99</td><td>255.84</td></tr></table>',\n",
       "              'languages': ['eng'],\n",
       "              'filetype': 'application/vnd.openxmlformats-officedocument.spreadsheetml.sheet'})"
      ]
     },
     "execution_count": 14,
     "metadata": {},
     "output_type": "execute_result"
    }
   ],
   "source": [
    "elements[0].metadata.fields"
   ]
  },
  {
   "cell_type": "code",
   "execution_count": 38,
   "metadata": {},
   "outputs": [],
   "source": [
    "file2 = 'SampleData.xlsx'\n",
    "\n",
    "tables = partition_xlsx(filename=file2, sheet ='SalesOrders')"
   ]
  },
  {
   "cell_type": "code",
   "execution_count": 40,
   "metadata": {},
   "outputs": [
    {
     "data": {
      "text/plain": [
       "[<unstructured.documents.elements.Title at 0x74920da47430>,\n",
       " <unstructured.documents.elements.Title at 0x74920d911720>,\n",
       " <unstructured.documents.elements.Title at 0x74920d9d2230>,\n",
       " <unstructured.documents.elements.Title at 0x74920d95e5f0>,\n",
       " <unstructured.documents.elements.Title at 0x74920d9d2ce0>,\n",
       " <unstructured.documents.elements.Title at 0x74920d95fb80>,\n",
       " <unstructured.documents.elements.Title at 0x7492295188e0>,\n",
       " <unstructured.documents.elements.Title at 0x74920dba44f0>,\n",
       " <unstructured.documents.elements.Table at 0x74921ed596f0>,\n",
       " <unstructured.documents.elements.Table at 0x74920da63a90>,\n",
       " <unstructured.documents.elements.Title at 0x74920dabf1c0>,\n",
       " <unstructured.documents.elements.Table at 0x74920dba4520>,\n",
       " <unstructured.documents.elements.Title at 0x74920d9d1fc0>,\n",
       " <unstructured.documents.elements.Table at 0x749229519090>]"
      ]
     },
     "execution_count": 40,
     "metadata": {},
     "output_type": "execute_result"
    }
   ],
   "source": [
    "tables"
   ]
  }
 ],
 "metadata": {
  "kernelspec": {
   "display_name": "unstructured",
   "language": "python",
   "name": "python3"
  },
  "language_info": {
   "codemirror_mode": {
    "name": "ipython",
    "version": 3
   },
   "file_extension": ".py",
   "mimetype": "text/x-python",
   "name": "python",
   "nbconvert_exporter": "python",
   "pygments_lexer": "ipython3",
   "version": "3.10.7"
  }
 },
 "nbformat": 4,
 "nbformat_minor": 2
}
